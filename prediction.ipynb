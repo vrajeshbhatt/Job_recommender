{
 "cells": [
  {
   "cell_type": "code",
   "execution_count": 1,
   "metadata": {},
   "outputs": [],
   "source": [
    "import pickle\n",
    "#loading tokenizer\n",
    "with open('tokenizer.pickle', 'rb') as handle:\n",
    "    tokenizer = pickle.load(handle)"
   ]
  },
  {
   "cell_type": "code",
   "execution_count": 2,
   "metadata": {},
   "outputs": [],
   "source": [
    "# loading our models\n",
    "from keras.models import load_model\n",
    "skill_prediction_model = load_model('skill_prediction.h5')\n",
    "job_predictor_model = load_model('job_predictor.h5')"
   ]
  },
  {
   "cell_type": "code",
   "execution_count": 3,
   "metadata": {},
   "outputs": [],
   "source": [
    "# loading vectorizer and tokenizer\n",
    "\n",
    "with open('vectorizer.pickle', 'rb') as handle:\n",
    "    vectorizer = pickle.load(handle)\n",
    "\n",
    "with open('LabelEncoder.pickle', 'rb') as handle:\n",
    "    LabelEncoder = pickle.load(handle)\n"
   ]
  },
  {
   "cell_type": "code",
   "execution_count": 4,
   "metadata": {},
   "outputs": [],
   "source": [
    "from keras_preprocessing.sequence import pad_sequences\n",
    "def predict(model,tokenizer,word):\n",
    "    input = pad_sequences(tokenizer.texts_to_sequences([word]),maxlen=20)\n",
    "    # input = tokenizer.texts_to_sequences([word])\n",
    "    d = model.predict(input)\n",
    "    # print('probebilty ',d)\n",
    "    if d <= 0.5:\n",
    "        d = 0 #'non skill word'\n",
    "    else:\n",
    "        d = 1 #'skill word' \n",
    "    return d"
   ]
  },
  {
   "cell_type": "code",
   "execution_count": 5,
   "metadata": {},
   "outputs": [],
   "source": [
    "import nltk\n",
    "import spacy\n",
    "import string\n",
    "import re\n",
    "#Initializing the spacy engine and then use it to process the text:\n",
    "nlp = spacy.load('en_core_web_sm')\n",
    "\n",
    "from nltk.corpus import stopwords\n",
    "from nltk.tokenize import word_tokenize\n",
    "from nltk.tokenize.treebank import TreebankWordDetokenizer\n",
    "stop_words = set(stopwords.words(\"english\"))\n",
    "# remove stopwords function\n",
    "def remove_stopwords(text):\n",
    "    word_tokens = word_tokenize(text)\n",
    "    filtered_text = [word for word in word_tokens if word not in stop_words]\n",
    "    r = TreebankWordDetokenizer().detokenize(filtered_text)\n",
    "    return r\n",
    "\n",
    "# remove punctuation\n",
    "def remove_punctuation(text):\n",
    "    translator = str.maketrans('', '', string.punctuation)\n",
    "    return text.translate(translator)\n",
    "\n",
    "def text_preprocess(text):\n",
    "    r = text.lower() # coverting into lower case\n",
    "    r = remove_stopwords(r) # removing stop words\n",
    "    r = re.sub(r'\\d+', '', r) # removing numbers\n",
    "    r = remove_punctuation(r) # removing punctuations\n",
    "    r = \" \".join(r.split()) # removing white sapce\n",
    "    r = ''.join(r.splitlines()) # removing newline character\n",
    "    return r"
   ]
  },
  {
   "cell_type": "code",
   "execution_count": 15,
   "metadata": {},
   "outputs": [],
   "source": [
    "import numpy as np\n",
    "\n",
    "def predict_title(text):\n",
    "    nouns = []\n",
    "    doc = nlp(text.lower())\n",
    "    for chunk in doc.noun_chunks:\n",
    "        chunk = text_preprocess(str(chunk))\n",
    "        nouns.append(chunk)\n",
    "    dir_temp = dict()\n",
    "    for i in nouns:\n",
    "        # print(type(i))\n",
    "        r = predict(skill_prediction_model,tokenizer,i)\n",
    "        if r == 1:\n",
    "          dir_temp[i] = r\n",
    "    print(list(dir_temp.keys()))\n",
    "    data = str(list(dir_temp.keys()))\n",
    "    print(type(data))\n",
    "    vec_data = vectorizer.transform([data])\n",
    "    pred = job_predictor_model.predict(vec_data)\n",
    "    print(pred)\n",
    "    title = np.argmax(pred,axis=1)\n",
    "\n",
    "    title = LabelEncoder.inverse_transform(title)\n",
    "    return 'Your most suitable job title is ', title\n",
    "   \n",
    "\n",
    "    \n",
    "    "
   ]
  },
  {
   "cell_type": "code",
   "execution_count": 13,
   "metadata": {},
   "outputs": [],
   "source": [
    "text = '''Vrajeshkumar Bhatt\n",
    "Data Scientist\n",
    "Skilled team player with a strong background in Python, Data\n",
    "Analytics, and Machine Learning. Have experience with ml model\n",
    "training and deployment. Works well independently to handle projects\n",
    "as well as a great team player. Quick learner with good communication\n",
    "skills, dependable, and ready to learn and grow.\n",
    "vrajeshbhatt113@gmail.com\n",
    "+1 4379712456\n",
    "Toronto, canada\n",
    "linkedin.com/in/vrajeshbhatt\n",
    "github.com/vrajeshbhatt\n",
    "WORK EXPERIENCE\n",
    "ML Intern\n",
    "GatiSofTech\n",
    "01/2021 - 04/2021, Surat, India\n",
    "Software Development Company\n",
    "Manage the planning and development of design and procedures\n",
    "for the project Ticket Sampling. Designed the solution, data gathering, and implemented the\n",
    "machine learning solutions. Gathered, analyzed, and prepared the data for development. Worked with Multi-target Neural Network model for prediction\n",
    "and classification with python. Deployed model with Flask framework on the web platform. Made Auto Rebuild ML model that can rebuild itself and with new\n",
    "data\n",
    "Python Back-end Engineer\n",
    "Upugo Fitness & Sports\n",
    "12/2021 - 03/2022, Bangalore, India\n",
    "Responsible for writing scalable backend applications in Python. Coordinating with Front-end Team. Built applications in Python, Flask, and JavaScript. Worked on Flask- Framework, and deployment of exercises and\n",
    "games and REST services for the front end. Communicate with the team and integrate feedback into project\n",
    "guidelines\n",
    "EDUCATION\n",
    "Bachelor of Technology\n",
    "PP Savani University\n",
    "08/2017 - 07/2021, 8.51 CGPA\n",
    "Computer Engineering\n",
    "Two-year Ontario College Graduate Certificate\n",
    "Loyalist College in Toronto\n",
    "05/2022 - Present,\n",
    "Artificial Intelligence and Data Science\n",
    "TECHNICAL SKILLS\n",
    "Python Flask SQL Data Analytics\n",
    "Machine Learning Tableau\n",
    "Data Preparation ANN\n",
    "ML model deployment Heroku Git\n",
    "Web Development JavaScript\n",
    "PERSONAL PROJECTS\n",
    "Upasthiti: A Speaker Recognition System\n",
    "Identifying users using the characteristics extracted from\n",
    "their voices.\n",
    "Implemented using CNN and MFCC feature extraction. Trained model with own dataset and achieved 78% validation\n",
    "accuracy.\n",
    "Facial Expression Recognition\n",
    "Recognize expressions from faces such as natural, happy, angry, surprised, and sad.\n",
    "It is created using CNN, Keras, OpenCV, Flask. Deployed this project on Web using Flask and Heroku.\n",
    "Job Title Prediction using Machine Learning\n",
    "Predicts the most suitable job title based on their personality\n",
    "trait, interest, and skills. Model build with artificial neural network with own data set which has 15 job titles and 50 attributes and focused on IT\n",
    "related fields\n",
    "ONLINE COURSES\n",
    "Data Science Hands-On with Open Source Tools\n",
    "Cognitive Class an IBM Initiative - issued on 06/2019\n",
    "Machine Learning with Python\n",
    "Cognitive Class an IBM Initiative - issued on 03/2020\n",
    "Neural Networks and Deep Learning\n",
    "Coursera - issued on 05/2020\n",
    "SQL Masterclass: SQL for Data Analytic'''"
   ]
  },
  {
   "cell_type": "code",
   "execution_count": 20,
   "metadata": {},
   "outputs": [
    {
     "name": "stdout",
     "output_type": "stream",
     "text": [
      "1/1 [==============================] - 0s 57ms/step\n",
      "1/1 [==============================] - 0s 52ms/step\n",
      "1/1 [==============================] - 0s 59ms/step\n",
      "1/1 [==============================] - 0s 62ms/step\n",
      "1/1 [==============================] - 0s 54ms/step\n",
      "1/1 [==============================] - 0s 53ms/step\n",
      "1/1 [==============================] - 0s 52ms/step\n",
      "1/1 [==============================] - 0s 45ms/step\n",
      "1/1 [==============================] - 0s 45ms/step\n",
      "1/1 [==============================] - 0s 52ms/step\n",
      "1/1 [==============================] - 0s 40ms/step\n",
      "1/1 [==============================] - 0s 45ms/step\n",
      "1/1 [==============================] - 0s 51ms/step\n",
      "1/1 [==============================] - 0s 49ms/step\n",
      "1/1 [==============================] - 0s 49ms/step\n",
      "1/1 [==============================] - 0s 42ms/step\n",
      "1/1 [==============================] - 0s 49ms/step\n",
      "1/1 [==============================] - 0s 38ms/step\n",
      "1/1 [==============================] - 0s 55ms/step\n",
      "1/1 [==============================] - 0s 50ms/step\n",
      "1/1 [==============================] - 0s 40ms/step\n",
      "1/1 [==============================] - 0s 48ms/step\n",
      "1/1 [==============================] - 0s 39ms/step\n",
      "1/1 [==============================] - 0s 40ms/step\n",
      "1/1 [==============================] - 0s 42ms/step\n",
      "1/1 [==============================] - 0s 39ms/step\n",
      "1/1 [==============================] - 0s 39ms/step\n",
      "1/1 [==============================] - 0s 40ms/step\n",
      "1/1 [==============================] - 0s 40ms/step\n",
      "1/1 [==============================] - 0s 52ms/step\n",
      "1/1 [==============================] - 0s 54ms/step\n",
      "1/1 [==============================] - 0s 46ms/step\n",
      "1/1 [==============================] - 0s 44ms/step\n",
      "1/1 [==============================] - 0s 43ms/step\n",
      "1/1 [==============================] - 0s 66ms/step\n",
      "1/1 [==============================] - 0s 63ms/step\n",
      "1/1 [==============================] - 0s 39ms/step\n",
      "1/1 [==============================] - 0s 43ms/step\n",
      "1/1 [==============================] - 0s 53ms/step\n",
      "1/1 [==============================] - 0s 42ms/step\n",
      "1/1 [==============================] - 0s 46ms/step\n",
      "1/1 [==============================] - 0s 44ms/step\n",
      "1/1 [==============================] - 0s 46ms/step\n",
      "1/1 [==============================] - 0s 42ms/step\n",
      "1/1 [==============================] - 0s 41ms/step\n",
      "1/1 [==============================] - 0s 43ms/step\n",
      "1/1 [==============================] - 0s 45ms/step\n",
      "1/1 [==============================] - 0s 44ms/step\n",
      "1/1 [==============================] - 0s 40ms/step\n",
      "1/1 [==============================] - 0s 41ms/step\n",
      "1/1 [==============================] - 0s 43ms/step\n",
      "1/1 [==============================] - 0s 56ms/step\n",
      "1/1 [==============================] - 0s 51ms/step\n",
      "1/1 [==============================] - 0s 43ms/step\n",
      "1/1 [==============================] - 0s 42ms/step\n",
      "1/1 [==============================] - 0s 39ms/step\n",
      "1/1 [==============================] - 0s 43ms/step\n",
      "1/1 [==============================] - 0s 39ms/step\n",
      "1/1 [==============================] - 0s 41ms/step\n",
      "1/1 [==============================] - 0s 50ms/step\n",
      "1/1 [==============================] - 0s 42ms/step\n",
      "1/1 [==============================] - 0s 38ms/step\n",
      "1/1 [==============================] - 0s 46ms/step\n",
      "1/1 [==============================] - 0s 43ms/step\n",
      "1/1 [==============================] - 0s 41ms/step\n",
      "1/1 [==============================] - 0s 49ms/step\n",
      "1/1 [==============================] - 0s 39ms/step\n",
      "1/1 [==============================] - 0s 48ms/step\n",
      "1/1 [==============================] - 0s 48ms/step\n",
      "1/1 [==============================] - 0s 41ms/step\n",
      "1/1 [==============================] - 0s 41ms/step\n",
      "1/1 [==============================] - 0s 49ms/step\n",
      "1/1 [==============================] - 0s 46ms/step\n",
      "1/1 [==============================] - 0s 40ms/step\n",
      "1/1 [==============================] - 0s 40ms/step\n",
      "1/1 [==============================] - 0s 39ms/step\n",
      "1/1 [==============================] - 0s 48ms/step\n",
      "1/1 [==============================] - 0s 51ms/step\n",
      "1/1 [==============================] - 0s 47ms/step\n",
      "1/1 [==============================] - 0s 60ms/step\n",
      "1/1 [==============================] - 0s 40ms/step\n",
      "1/1 [==============================] - 0s 44ms/step\n",
      "1/1 [==============================] - 0s 51ms/step\n",
      "1/1 [==============================] - 0s 50ms/step\n",
      "1/1 [==============================] - 0s 49ms/step\n",
      "1/1 [==============================] - 0s 69ms/step\n",
      "1/1 [==============================] - 0s 51ms/step\n",
      "1/1 [==============================] - 0s 64ms/step\n",
      "1/1 [==============================] - 0s 64ms/step\n",
      "1/1 [==============================] - 0s 41ms/step\n",
      "1/1 [==============================] - 0s 62ms/step\n",
      "1/1 [==============================] - 0s 43ms/step\n",
      "1/1 [==============================] - 0s 71ms/step\n",
      "1/1 [==============================] - 0s 39ms/step\n",
      "1/1 [==============================] - 0s 64ms/step\n",
      "1/1 [==============================] - 0s 47ms/step\n",
      "1/1 [==============================] - 0s 60ms/step\n",
      "1/1 [==============================] - 0s 47ms/step\n",
      "1/1 [==============================] - 0s 44ms/step\n",
      "1/1 [==============================] - 0s 66ms/step\n",
      "1/1 [==============================] - 0s 46ms/step\n",
      "1/1 [==============================] - 0s 48ms/step\n",
      "1/1 [==============================] - 0s 58ms/step\n",
      "1/1 [==============================] - 0s 55ms/step\n",
      "1/1 [==============================] - 0s 54ms/step\n",
      "1/1 [==============================] - 0s 56ms/step\n",
      "1/1 [==============================] - 0s 70ms/step\n",
      "1/1 [==============================] - 0s 40ms/step\n",
      "1/1 [==============================] - 0s 84ms/step\n",
      "1/1 [==============================] - 0s 77ms/step\n",
      "1/1 [==============================] - 0s 41ms/step\n",
      "1/1 [==============================] - 0s 58ms/step\n",
      "1/1 [==============================] - 0s 60ms/step\n",
      "1/1 [==============================] - 0s 57ms/step\n",
      "1/1 [==============================] - 0s 69ms/step\n",
      "1/1 [==============================] - 0s 42ms/step\n",
      "1/1 [==============================] - 0s 52ms/step\n",
      "1/1 [==============================] - 0s 56ms/step\n",
      "1/1 [==============================] - 0s 38ms/step\n",
      "1/1 [==============================] - 0s 42ms/step\n",
      "1/1 [==============================] - 0s 44ms/step\n",
      "1/1 [==============================] - 0s 44ms/step\n",
      "1/1 [==============================] - 0s 40ms/step\n",
      "1/1 [==============================] - 0s 42ms/step\n",
      "1/1 [==============================] - 0s 35ms/step\n",
      "1/1 [==============================] - 0s 37ms/step\n",
      "1/1 [==============================] - 0s 38ms/step\n",
      "1/1 [==============================] - 0s 35ms/step\n",
      "1/1 [==============================] - 0s 41ms/step\n",
      "1/1 [==============================] - 0s 44ms/step\n",
      "1/1 [==============================] - 0s 47ms/step\n",
      "1/1 [==============================] - 0s 44ms/step\n",
      "1/1 [==============================] - 0s 42ms/step\n",
      "1/1 [==============================] - 0s 46ms/step\n",
      "1/1 [==============================] - 0s 56ms/step\n",
      "1/1 [==============================] - 0s 42ms/step\n",
      "1/1 [==============================] - 0s 46ms/step\n",
      "1/1 [==============================] - 0s 40ms/step\n",
      "1/1 [==============================] - 0s 43ms/step\n",
      "1/1 [==============================] - 0s 41ms/step\n",
      "1/1 [==============================] - 0s 49ms/step\n",
      "1/1 [==============================] - 0s 43ms/step\n",
      "1/1 [==============================] - 0s 45ms/step\n",
      "1/1 [==============================] - 0s 42ms/step\n",
      "1/1 [==============================] - 0s 39ms/step\n",
      "1/1 [==============================] - 0s 52ms/step\n",
      "1/1 [==============================] - 0s 46ms/step\n",
      "1/1 [==============================] - 0s 46ms/step\n",
      "1/1 [==============================] - 0s 44ms/step\n",
      "1/1 [==============================] - 0s 37ms/step\n",
      "1/1 [==============================] - 0s 40ms/step\n",
      "1/1 [==============================] - 0s 36ms/step\n",
      "1/1 [==============================] - 0s 36ms/step\n",
      "1/1 [==============================] - 0s 38ms/step\n",
      "1/1 [==============================] - 0s 42ms/step\n",
      "1/1 [==============================] - 0s 39ms/step\n",
      "1/1 [==============================] - 0s 40ms/step\n",
      "1/1 [==============================] - 0s 46ms/step\n",
      "1/1 [==============================] - 0s 38ms/step\n",
      "1/1 [==============================] - 0s 38ms/step\n",
      "1/1 [==============================] - 0s 39ms/step\n",
      "['agile methodologies', 'ai', 'data', 'pure software', 'skills \\uf0d8 technical manual testing automation testing microsoft office suite selenium', 'java python hp qc', 'soap ui', 'development', 'algorithms', 'software systems', 'code', 'analysis', 'impact analysis', 'data driven framework', 'test automation framework libraries', 'cucumber framework', 'integration issues', '• machine learning']\n",
      "<class 'str'>\n",
      "1/1 [==============================] - 0s 36ms/step\n",
      "[[0.08158923 0.65544564 0.6205959  0.4697493  0.49769154]]\n",
      "('Your most suitable job title is ', array(['Data Analyst'], dtype=object))\n"
     ]
    }
   ],
   "source": [
    "o = predict_title(text)\n",
    "print(o)"
   ]
  },
  {
   "cell_type": "code",
   "execution_count": 17,
   "metadata": {},
   "outputs": [
    {
     "data": {
      "text/plain": [
       "135"
      ]
     },
     "execution_count": 17,
     "metadata": {},
     "output_type": "execute_result"
    }
   ],
   "source": [
    "len(pred)"
   ]
  },
  {
   "cell_type": "code",
   "execution_count": 26,
   "metadata": {},
   "outputs": [],
   "source": [
    "d = {'a':1,'b':1}"
   ]
  },
  {
   "cell_type": "code",
   "execution_count": 52,
   "metadata": {},
   "outputs": [
    {
     "data": {
      "text/plain": [
       "\"['a', 'b']\""
      ]
     },
     "execution_count": 52,
     "metadata": {},
     "output_type": "execute_result"
    }
   ],
   "source": [
    "str(list(d.keys()))"
   ]
  },
  {
   "cell_type": "code",
   "execution_count": 56,
   "metadata": {},
   "outputs": [
    {
     "data": {
      "text/plain": [
       "<1x803 sparse matrix of type '<class 'numpy.int64'>'\n",
       "\twith 2 stored elements in Compressed Sparse Row format>"
      ]
     },
     "execution_count": 56,
     "metadata": {},
     "output_type": "execute_result"
    }
   ],
   "source": [
    "vectorizer.transform([\"this is the post for the data science\"])"
   ]
  },
  {
   "cell_type": "code",
   "execution_count": 10,
   "metadata": {},
   "outputs": [
    {
     "data": {
      "text/plain": [
       "array(['Cloud Engineer', 'Data Analyst', 'Database Administrator',\n",
       "       'Full Stack Developer', 'machine learning engineer'], dtype=object)"
      ]
     },
     "execution_count": 10,
     "metadata": {},
     "output_type": "execute_result"
    }
   ],
   "source": [
    "LabelEncoder.classes_"
   ]
  },
  {
   "cell_type": "code",
   "execution_count": null,
   "metadata": {},
   "outputs": [],
   "source": []
  }
 ],
 "metadata": {
  "kernelspec": {
   "display_name": "Python 3.9.13 ('job_prediction': venv)",
   "language": "python",
   "name": "python3"
  },
  "language_info": {
   "codemirror_mode": {
    "name": "ipython",
    "version": 3
   },
   "file_extension": ".py",
   "mimetype": "text/x-python",
   "name": "python",
   "nbconvert_exporter": "python",
   "pygments_lexer": "ipython3",
   "version": "3.9.13"
  },
  "orig_nbformat": 4,
  "vscode": {
   "interpreter": {
    "hash": "b1474090f809006499ed9bc61f3f50d41257db143dbf9800ff271e80de9a5950"
   }
  }
 },
 "nbformat": 4,
 "nbformat_minor": 2
}
