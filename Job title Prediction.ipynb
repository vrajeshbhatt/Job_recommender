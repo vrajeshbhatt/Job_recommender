{
 "cells": [
  {
   "cell_type": "code",
   "execution_count": 2,
   "id": "a7cee2c0",
   "metadata": {},
   "outputs": [],
   "source": [
    "import pandas as pd\n",
    "from sklearn.feature_extraction.text import CountVectorizer"
   ]
  },
  {
   "cell_type": "code",
   "execution_count": 3,
   "id": "6b635cbc",
   "metadata": {},
   "outputs": [],
   "source": [
    "df=pd.read_csv('keyword_datset.csv')"
   ]
  },
  {
   "cell_type": "code",
   "execution_count": 4,
   "id": "5c625430",
   "metadata": {},
   "outputs": [
    {
     "data": {
      "text/html": [
       "<div>\n",
       "<style scoped>\n",
       "    .dataframe tbody tr th:only-of-type {\n",
       "        vertical-align: middle;\n",
       "    }\n",
       "\n",
       "    .dataframe tbody tr th {\n",
       "        vertical-align: top;\n",
       "    }\n",
       "\n",
       "    .dataframe thead th {\n",
       "        text-align: right;\n",
       "    }\n",
       "</style>\n",
       "<table border=\"1\" class=\"dataframe\">\n",
       "  <thead>\n",
       "    <tr style=\"text-align: right;\">\n",
       "      <th></th>\n",
       "      <th>Unnamed: 0</th>\n",
       "      <th>Title</th>\n",
       "      <th>keywords</th>\n",
       "    </tr>\n",
       "  </thead>\n",
       "  <tbody>\n",
       "    <tr>\n",
       "      <th>0</th>\n",
       "      <td>0</td>\n",
       "      <td>Data Analyst</td>\n",
       "      <td>['data analyst', 'data', 'new data extract req...</td>\n",
       "    </tr>\n",
       "    <tr>\n",
       "      <th>1</th>\n",
       "      <td>1</td>\n",
       "      <td>Data Analyst</td>\n",
       "      <td>['models', 'business data requirements', 'comp...</td>\n",
       "    </tr>\n",
       "    <tr>\n",
       "      <th>2</th>\n",
       "      <td>2</td>\n",
       "      <td>Data Analyst</td>\n",
       "      <td>['data analyst', 'data collection', 'analysis'...</td>\n",
       "    </tr>\n",
       "    <tr>\n",
       "      <th>3</th>\n",
       "      <td>3</td>\n",
       "      <td>Data Analyst</td>\n",
       "      <td>['microsoft excel', 'jr research analyst', 're...</td>\n",
       "    </tr>\n",
       "    <tr>\n",
       "      <th>4</th>\n",
       "      <td>4</td>\n",
       "      <td>Data Analyst</td>\n",
       "      <td>['data analyst', 'interpreting', 'data', 'data...</td>\n",
       "    </tr>\n",
       "  </tbody>\n",
       "</table>\n",
       "</div>"
      ],
      "text/plain": [
       "   Unnamed: 0         Title                                           keywords\n",
       "0           0  Data Analyst  ['data analyst', 'data', 'new data extract req...\n",
       "1           1  Data Analyst  ['models', 'business data requirements', 'comp...\n",
       "2           2  Data Analyst  ['data analyst', 'data collection', 'analysis'...\n",
       "3           3  Data Analyst  ['microsoft excel', 'jr research analyst', 're...\n",
       "4           4  Data Analyst  ['data analyst', 'interpreting', 'data', 'data..."
      ]
     },
     "execution_count": 4,
     "metadata": {},
     "output_type": "execute_result"
    }
   ],
   "source": [
    "df.head()"
   ]
  },
  {
   "cell_type": "code",
   "execution_count": 6,
   "id": "c8047394",
   "metadata": {},
   "outputs": [
    {
     "data": {
      "text/plain": [
       "(array([\"['data analyst', 'data', 'new data extract requirements', 'advanced skills', 'data analysis', 'data mapping', 'data modeling', 'data lakes', 'analytics data analytics', 'aws quicksight redshift data migration', 'sql', 'etl scripting', 'integration', 'rest apis', 'nodejs aws lambdaapi gateway detailed duties', 'source data', 'wellprepared datasets', 'development', 'dashboards', 'analysis', 'statistical models', 'handson development', 'analytical solutions', 'available data', 'analytical needs', 'statistical findings', 'appropriate algorithms', 'data structures', 'analyst', 'programming languages', 'graphql', 'nodejs aws lambdaapi gateway experience', 'data mining', 'quantitative analysis experience', 'machine learning algorithms', 'associated data', 'analytical problem solving datadrivenmetrics driven job type']\",\n",
       "        \"['models', 'business data requirements', 'complete reporting analytics solutions', 'extensive sql query skills', 'tableau dashboard reporting', 'adhoc analytics', 'development', 'data sources', 'abilities', 'equivalent business experience', 'analytical findings', 'sql excellent communication skills', 'strong analytical conceptual thinking skills', 'data', 'spot patterns', 'hybrid remote model learning development programs', 'recognition program employee perk program', 'analytical critical thinkers', 'analysis', 'corporate data analytics', 'key analytics']\",\n",
       "        \"['data analyst', 'data collection', 'analysis', 'cotawide data analyst tasks', 'analytics', 'key data sets', 'demographics development', 'data elements', 'data', 'quarterly tay performance dashboard report cotawide tasks', 'statistical reports', 'programmatic andor strategic decisions', 'design improvements', 'data integrity issues', 'data integrity', 'data inconsistences', 'implementation', 'statistical analysis', 'presentation skills', 'advanced microsoft office skills', 'computer science', 'data analytics', 'agile workforce', 'report']\",\n",
       "        \"['microsoft excel', 'jr research analyst', 'reporting models', 'data', 'program developments', 'core analytical skills filter â€œcleanâ€\\\\x9d data', 'computer reports', 'statistics', 'excel', 'pivot tables', 'quality oriented proven organizational skills', 'htmlcss coding skills']\",\n",
       "        \"['data analyst', 'interpreting', 'data', 'data analysis', 'raw data', 'meaningful statistics', 'excel based analysis min years experince', 'microsoft access sql skills job type', 'sql']\",\n",
       "        \"['data management capabilities', 'data', 'data analyst', 'data analysis', 'resulting digital data analysis', 'data management needs', 'business data requirements', 'cloud storage', 'data analytics', 'data models', 'dashboards', 'sensitive personal data', 'data management', 'data management reporting requirements', 'relevant data modeling techniques data analytics tools', 'microsoft dataverse platform', 'power bi', 'equivalent low code', 'code data management', 'analysis solutions', 'analytics', 'programs', 'relevant data analysis experience', 'technologically sensible data management analytics solutions', 'skills microsoft', 'apps knowledge', 'powerpoint', 'advanced excel', 'microsoft office applications', 'especially data management', 'ms excel', 'analyses', 'development teams', 'microsoft power apps', 'power automate', 'agile project methodology', 'microsoft power bi', 'microsoft power', 'automate']\",\n",
       "        \"['parttime data analyst asap', 'https mineralpricescom https ecologyfinancecom https mineralfundscom']\",\n",
       "        \"['data analyst', 'business intelligence analyst', 'power', 'dashboards', 'data trends build optimized data models', 'dashboard requirements', 'data', 'enterprise data warehouses', 'kpis', 'dashboard data', 'data model construction', 'data analysis share solutions', 'broader analytics', 'latest power', 'big data', 'data science', 'predictive modelling', 'data governance', 'advanced excel', 'computer science', 'statistics', 'developing data models', 'dashboards experience gathering business requirements', 'sql', 'data visualization tools', 'power bi', 'tableau', 'azure stack', 'bi â€ “ data lake gen', 'azure synapse', 'devops', 'data architecture', 'python', 'r', 'erp systems experience', 'development']\",\n",
       "        \"['data solutions team', 'new data analyst', 'proprietary data', 'associated analytics', 'proprietary databases', 'canadian development market', 'data entry', 'report', 'data', 'data sets', 'create dashboards', 'models', 'commercial residential real estate market analytics', 'commercial real estate development industry', 'ms office', 'tableau', 'analytical skills']\",\n",
       "        \"['data', 'numbers', 'data analyst', 'development', 'analysis', 'data issues', 'business data analysts', 'addressable analytical questions', 'impactful insightful dashboards', 'performance analyst role advanced sas enterprise guide', 'server mysql advanced experience', 'visual analytics tools', 'eg tableau advanced microsoft word', 'powerpoint', 'excel', 'big data tools', 'ie hive python customer', 'highlevel data', 'statistics', 'computer science', 'programs', 'professional development', 'advanced analytics']\",\n",
       "        \"['complex statistical information', 'complex data', 'dashboard', 'data']\",\n",
       "        \"['data analyst hybrid contract duration', 'data analyst', 'computer databases', 'typical data analyst', 'computer database', 'programs', 'databases', 'analysts', 'database development', 'microsoft sql knowledge', 'database management software']\",\n",
       "        \"['data analyst', 'data management', 'new data', 'data enhancements', 'analyst', 'development', 'implementation', 'data mapping', 'data sourcing workflows', 'systems integration', 'data quality enhancements', 'data specifications', 'document data', 'data integration developments', 'solution design data flows', 'business analysis', 'infrastructure', 'analysis', 'databases', 'data modelling', 'database tables', 'detailed oriented individual', 'ms suite', 'excel word power bi', 'sql', 'robert half app']\",\n",
       "        \"['senior analyst â€ “ data architecture', 'data architecture team', 'master data sets', 'troubleshooting data issues', 'data analyst', 'popular data analysis tools', 'databases', 'analysis', 'data sets', 'data sources', 'data capture process', 'data storage structures', 'data mining', 'data cleansing', 'confidential data', 'data', 'detailed analysis', 'data integrity', 'complex data analysis', 'data management industry data visualization tools', 'tableau']\",\n",
       "        \"['analytics', 'data analyst', 'campaign execution', 'performancepredictive analytics', 'models', 'multiple data sources', 'data insights', 'data collection', 'data integrity', 'reconcile data', 'champion data standards', 'data governance', 'data capabilities', 'data analytics', 'data', 'large datasets', 'data visualization', 'strong analytical skills', 'databases', 'data visualization tools', 'tableau', 'google data studio', 'power bi', 'statistics', 'statistical packages', 'datasets', 'sas', 'r', 'excel', 'crm systems', 'programming language', 'plus xml javascript', 'etl frameworks', 'computer science', 'web analytics', 'google analytics', 'attribution models']\",\n",
       "        \"['cloud', 'best cloud practice recommendations', 'models', 'databases', 'cloud native architecture', 'publicprivatehybrid cloud', 'cloud native design', 'developers']\",\n",
       "        \"['data science', 'azure cloud architect', 'azure platform', 'microsoft azure solutions', 'azure ad', 'microsoft azure architecture collaboration', 'technical designing building observability platform', 'implementation', 'microsoft azure cloud platform', 'infrastructure', 'storage', 'microsoft azure', 'cloud architecture development', 'azure architecture', 'design patterns', 'azure native solutions', 'cloud application solutions', 'scalable apis', 'agile development approaches', 'azure log analytics', 'modern architectural patterns', 'devops', 'temporal rapid development tools', 'agile secure lifecycle', 'aws', 'gcp experience', 'development languages', 'power', 'abilities']\",\n",
       "        \"['aws cloud architect', 'cloud landscape', 'computer systems engineering aws certification', 'aws architecture', 'cloud native applications', 'aws']\",\n",
       "        \"['development practices', 'public cloud', 'development', 'cloud', 'cloud architect', 'cloud platformenterprise architecture team', 'cloud adoption strategy', 'cloud platform capabilities', 'cloud platforms', 'cloud common functionality', 'cloud providers', 'cloud platform', 'infrastructure', 'code', 'design patterns', 'architectural governance process activities', 'application development lifecycle', 'computer science', 'cloud transformation', 'cloud platformcomponentsservices development', 'strong development experience', 'language framework experience', 'software development life cycle', 'cloud infrastructure', 'experience developing deploying cloud infrastructure', 'software architecture', 'cloud platform features', 'google gcp', 'web apis', 'devops']\",\n",
       "        \"['microsoft cloud engineerarchitect â€ “ azure', 'cloud engineerarchitect â€ “ azure', 'implementation', 'public private hybrid cloud technologies', 'microsoft public', 'azure infrastructure', 'azure platform', 'analysis services', 'azure ad', 'microsoft azure', 'sql', 'microsoft technologies', 'azure virtual machines', 'rds server setup', 'development', 'deployment', 'infrastructure support', 'windows server', 'microsoft azure infrastructure', 'infrastructure technologies', 'storage', 'azure active directory', 'large o office exchange sharepoint ms teams', 'microsoft infrastructure']\",\n",
       "        \"['architect cloud nativehybrid cloud infrastructure solutions', 'mentor devops', 'cloud engineers', 'implementation', 'aws infrastructure', 'cloud security strategy', 'aws wellarchitected framework', 'highperforming resilient efficient infrastructure', 'architectural design patterns', 'cloud architect', 'powershell bash python perl scripting language', 'netnet core software build', 'docker', 'linux server administration experience', 'aws cloud formation', 'aws', 'infrastructure monitoring tools', 'windows server administration', 'networking knowledge']\",\n",
       "        \"['cloud solutions', 'aws cloud solution architect', 'analysis', 'development', 'implementation', 'software applications', 'aws', 'aws s', 'data warehouse solutions', 'designing etl pipelines', 'automated data load', 'data modeling', 'aws redshift experience']\",\n",
       "        \"['hybrid cloud platform', 'hybrid cloud management portal', 'cloud product architect', 'implementation', 'cloud', 'development', 'architectural design', 'deployment', 'cloud products', 'cloud systems architecture ability', 'equivalent experience', 'cloud technologies', 'multicloud environments business analysis experience', 'previous cloud implementation', 'azure aws vmwarebased environments']\",\n",
       "        \"['implementation', 'public cloud technologies', 'primarily microsoft azure working knowledge', 'public cloud design', 'azure cloud foundation services', 'azure site recovery deployment planner tool working knowledgeexperience', 'azure ad', 'deployment', 'public cloud', 'native microsoft azure toolsets', 'azure migrate theoreticalworking knowledge', 'cicd pipeline process knowledge', 'python scripting', 'cloud foundation design', 'complex cloud designs', 'implementation migration projects', 'analytical presentation documentation skills']\",\n",
       "        \"['designing', 'development', 'architectural design application development', 'software development', 'implementation', 'cloud digital transition', 'computer science', 'soa design', 'cloud environments', 'agile scrum method']\",\n",
       "        \"['cloud solution architect position', 'aws cloud services', 'bmo capital markets cloud roadmap', 'enterprise architecture', 'cloud application patterns', 'cloud engineering team members', 'cloud patterns', 'development', 'data', 'infrastructure', 'devops', 'cloud solutions', 'programmatic integration', 'cloud applications', 'data services', 'application data architecture models', 'automate deployment patterns', 'application infrastructure roadmaps consult', 'cloud', 'factor development practices', 'microservices oriented application deployment', 'cloud migration', 'infrastructure roadmaps', 'new cloud innovations', 'cloud design patterns', 'cloud native architecture', 'cloud operations', 'cloud security models', 'cloud platforms patterns', 'cloud services', 'power economic growth']\",\n",
       "        \"['cloud architect', 'infrastructure', 'existing cloud presence', 'science', 'multiple cloud platforms', 'cloud infrastructure', 'tier web applications', 'cloud environments', 'aws', 'cloud platforms', 'linux systems', 'devops team', 'linux administration', 'aws cloud technologies', 'web server technologies', 'rdbms nosql databases', 'mysql', 'postgresql', 'creative analytical approach']\",\n",
       "        \"['cloud architect', 'storage', 'nosql', 'databases', 'qualified cloud architect', 'aws', 'aws evangelist', 'cloud', 'agile model', 'devops culture', 'cloud advocates', 'deep architectural discussions', 'aws platform', 'sas', 'years design implementation experience', 'infrastructure design', 'infrastructure', 'database architectures', 'handson aws implementation knowledge', 'implementation', 'software development tools', 'methodologies presentation skills', 'developers', 'computer science', 'related aws certified solutions', 'data', 'forbes']\",\n",
       "        \"['cloud', 'cloud architect', 'development activities', 'requirement analysis', 'architecture software design', 'lean agile organization', 'development', 'data', 'infrastructure', 'implementation', 'big sophisticated systems', 'architecture solid experience', 'web application development', 'java experience', 'elasticsearch postgres experience', 'building system software architectures', 'data platform security experience', 'designing', 'sophisticated largescale solutions', 'software development lifecycles', 'basic knowledge', 'cloud platforms', 'presentation skills']\",\n",
       "        \"['foundational knowledge', 'customer cloud adoption', 'power', 'microsoft cloud solutions', 'microsoft cloud solution', 'microsoft azure platform', 'customer microsoft azure applications development platform', 'azure applications development technical customer engagements', 'architectural design sessions', 'specific implementation projects', 'developers', 'adapts business models', 'architecture design', 'deployment leverages', 'data', 'architecture solutions', 'technical architecture design', 'development', 'deployment', 'implementation', 'architecture implementations', 'eg wellarchitected framework', 'cloud adoption framework', 'practice development', 'competitors architecture solutions', 'production deployment application', 'cloud hybrid infrastructures', 'development languages', 'java', 'javascript', 'python', 'c nodejs scalable architectures', 'azure app service', 'software development practices', 'devops', 'azure devops', 'modern software development techniques', 'ie docker kubernetes red hat openshift cloud foundry azure kubernetes service github advanced knowledge', 'computer science']\",\n",
       "        \"['universityâ€™s voice data communications', 'server storage infrastructure', 'web application development', 'erp administration', 'data integrity', 'data availability', 'universityâ€™s central academic administrative databases', 'erp systems', 'computer science', 'erp management systems', 'development', 'databases', 'proficient computer skills', 'programming', 'systems analysis', 'computer hardware', 'integration']\",\n",
       "        \"['solicitor general', 'data management', 'development', 'data management structures', 'data management expertise', 'databases', 'data modelling tools', 'application development aids', 'database design development knowledge', 'database design standards', 'ministry knowledge', 'unixbased computer system technologies', 'unix operating systems', 'design knowledge', 'database development methodology', 'programming languages', 'data types', 'data dictionaries', 'data storage', 'multipurpose multiclient based databases', 'data bases', 'data recovery', 'database software', 'data management techniquesservices', 'sql', 'oracle database administration', 'unix', 'unix shell scripting', 'host scripting', 'java programming', 'database replication', 'data management aspects', 'data management strategies', 'data management requirements', 'database design data organization', 'data management component', 'corporate data models', 'ministry databases', 'data corruption', 'interpreting', 'college st rd flr']\",\n",
       "        \"['sql server databases', 'sharepoint functions', 'operational management data', 'data integrity', 'data audits', 'development lifecycle', 'deployment', 'database software', 'data', 'data warehouse structures', 'database configuration', 'data models', 'data cleansing rules', 'data transformation rules designs', 'data transformation rules', 'software development life cycle', 'rapid application development', 'databases', 'data schemas', 'adhoc sql queries', 'large data files', 'sharepoint portal server infrastructure', 'application deployment', 'web portal servers', 'infrastructure', 'execution', 'integration', 'administers microsoft sharepoint portal server', 'performance analysis researches', 'development', 'developers', 'computer science', 'computer engineering', 'sharepoint platform', 'administrative capacity development experience', 'microsoft sql server', 'sharepoint designer experience', 'sql server reporting services', 'sql server integration services', 'sql server analysis services', 'debugging skills', 'ms sharepoint architecture', 'relational database structures', 'microsoft sharepoint', 'database design', 'microsoft sql', 'windowsbased server skills', 'ms office applications', 'excel', 'powerpoint', 'analytical data warehousing techniques', 'ie data warehouse lifecycle', 'dimensional data modeling', 'data modeling', 'etl design']\",\n",
       "        \"['infrastructure', 'implementation', 'new database analytics services', 'database analytics services', 'usability automate code deployment', 'build books', 'data access', 'database backup', 'devops', 'rd level support', 'traditional microsoft sql database administrator experience', 'azure database analytics services', 'microsoft sql server', 'ie sql ssas ssis ssrs azure database analytics services', 'ie azure sql', 'azure synapse', 'azure data factory', 'azure data lake', 'power apps', 'power bi', 'data preparation', 'advanced analytics', 'complex reports development', 'azure platform', 'azure devops', 'agile principles', 'development methodologies']\",\n",
       "        \"['database development', 'data systems', 'data', 'data scientists', 'devops engineers', 'data architects', 'data engineers', 'broader strategy', 'building software', 'agile continuous delivery environment', 'data architecture', 'data operations', 'data science', 'employee development', 'development life cycle', 'coding standards', 'code reviews', 'practical development experience', 'aws', 'major public cloud provider', 'agile development', 'multiple data stores', 'postgresql', 'aws dynamodb']\",\n",
       "        \"['database environments', 'database solutions', 'sybase db greenplum database technologies', 'data', 'development', 'infrastructure', 'staff development', 'strong analytical critical thinking skills', 'implementation experience', 'data model design', 'multiple database related functions', 'database related solutions']\",\n",
       "        \"['mssql databases', 'databases', 'mysql experience']\",\n",
       "        \"['computer installations', 'computer systems', 'data protection', 'desktop applications', 'storage', 'computer science', 'equivalent experience', 'linux', 'scripting automation tools', 'job leadership development programs']\",\n",
       "        \"['microsoft sql database administration', 'microsoft sql database administration experience experience', 'azure build automation', 'microsoft sql database administration experience', 'microsoft azure sql database', 'synapse database', 'oracle sql server stored procedure development', 'git', 'microsoft azure technologies']\",\n",
       "        \"['database design', 'test data models', 'implementation', 'data', 'data administration policy', 'models research document data requirements', 'data collection', 'data access rules', 'data conduct research', 'data lead', 'data administrators', 'development', 'data policies', 'models']\",\n",
       "        \"['ms sql server', 'server', 'designing', 'database infrastructure', 'programming languages']\",\n",
       "        \"['gts ecco database architecture', 'wealth management databases', 'dundee databases', 'modern database technologies', 'oracle database versions', 'c', 'automatic storage management', 'data guard', 'database replication tools']\",\n",
       "        \"['data warehouse database administrator', 'data warehouse', 'oracle data integrator', 'oracle analytics server', 'oracle databases', 'oracle business intelligence software upgrades manageadminister backups', 'tune etl', 'sql queries', 'linux shell scripts', 'computer systems design', 'computer science', 'database technologies', 'coding language', 'python']\",\n",
       "        \"['computer systems', 'instrument price reference data', 'vendor data', 'data standards concepts', 'scripting languages', 'java script', 'complex data analysis', 'data linage', 'analysis', 'data modelling · ideal candidate', 'master data management enterprise solutions', 'behavior driven development', 'agile teams']\",\n",
       "        \"['data integrity', 'effective reporting business intelligence framework', 'sql reports', 'database architectural design', 'assigned sql server infrastructure projects', 'computer science', 'sql', 'sql server', 'advanced sql scripting', 'transact sql', 'programming knowledge', 'performance analysis', 'erd ’ data dictionaries', 'architecture diagrams', 'power bi', 'development']\",\n",
       "        \"['full stack developer', 'development', 'agile development activities', 'sprint code reviews', 'debugging issues', 'system design skills', 'uml', 'typescript', 'sql database experience', 'graphql', 'electron', 'python', 'postgresql', 'git']\",\n",
       "        \"['proprietary cloud platform infin', 'realtime analytics', 'customized crm platform', 'fullstack development', 'creative resourceful techsavvy full stack developer', 'development', 'software development lifecycle', 'analysis', 'design patterns', 'coding standards', 'code', 'product development', 'development team members', 'analysis requirements success', 'full stack developer', 'computer science', 'graphql apis', 'cloud platform', 'javascript', 'jquery c', 'java', 'python javascript frameworks', 'react']\",\n",
       "        \"['software hardware solutions', 'software development', 'full stack developer', 'r', 'cuttingedge software solutions', 'full stack software solutions', 'detailed analysis', 'unitlevel code development', 'software integration', 'design code reviews preparation', 'computer science', 'computer engineering', 'minimum years full stack developer experience webbased frontend application framework webbased ui programming', 'html css javasscriptjquery nodejs sql nosql experience', 'c', 'python linux unix environment operating systems principles', 'mandatory traffic systems knowledge mobile app development', 'flutter framework', 'similar experience machine learning', 'data mining', 'machine intelligence', 'artificial intelligence realtime software development lidar pointcloud classification']\",\n",
       "        \"['full stack developer', 'development', 'web app', 'integration', 'software systems', 'architectural elements', 'special development projects', 'database driven web application design development full stack developer experience', 'python', 'django', 'node', 'react experience', 'mysql knowledge', 'web protocols', 'git', 'native nosql containerization', 'docker aws automation', 'lambda']\",\n",
       "        \"['full stack developer', 'web mobile financial solutions', 'modern javascript technologies', 'agile approach', 'modern software technologies', 'legacy code', 'professional development', 'informed decision', 'top notch javascript coding practices', 'pure sass', 'modern javascript frameworks', 'agile software development methodology', 'mobile software', 'javascript', 'nodejs', 'server side architectures', 'restful apis experience', 'python', 'git typical git flow']\",\n",
       "        \"['full stack developers', 'software developer', 'product development', 'data engineers', 'development technical team', 'software implementations', 'infrastructure integration', 'overall development process', 'software development', 'modern javascript', 'software stack', 'analysis', 'typescript â', 'html canvas', 'statistical techniques']\",\n",
       "        \"['talented full stack developer', 'code', 'detailed design', 'agile team', 'review feasibility', 'design phases', 'code development process', 'code structure design consistency', 'programs', 'polyglot programming skills', 'multiple computer languages', 'javascript', 'c htmlcss', 'years software development', 'fullstack development', 'html', 'restful apis', 'sql', 'design patterns', 'fastpaced agile development environment', 'git', 'booking engine api integration', 'native hybrid mobile app development', 'cloud environments', 'aws', 'data visualization']\",\n",
       "        \"['dynamic product development consultancy', 'full stack software developer', 'web mobile products', 'mobile apps', 'years fullstack software development experience', 'additional fullstack software development experience', 'google cloud', 'amazon web services', 'react']\",\n",
       "        \"['fullstack software engineer', 'development team members', 'javaspring javascriptreact postgresql aws examples', 'databases', 'java experience', 'javascript experience', 'react working knowledge']\",\n",
       "        \"['parttime junior full stack web developer', 'junior full stack web developer', 'code', 'computer science', 'software developer', 'rest apis', 'bootstrap tables', 'mysql database location', 'ontario university computer science program', 'full web development stack', 'javascript', 'mysql', 'web based dashboards', 'ubuntu linux servers', 'code repos', 'coding projects', 'development']\",\n",
       "        \"['great full stack developers', 'jee application server mysql', 'nosql angularjs', 'bootstrap', 'java', 'eclipse plugin development object oriented programing delivery lotus domino']\",\n",
       "        \"['constantly evolving cloud platform', 'complete web development stack', 'server', 'web browser', 'agile product development team', 'appealing web design', 'clean maintainable code', 'web technologies', 'cloud capabilities', 'docker containerization', 'graphql', 'rest apis', 'sql databases', 'essential specifically postgresql', 'javascript experience', 'frontend visualization tool', 'exceptional coding skills', 'web applications', 'strong programming skills', 'clean logical code', 'code', 'javascript', 'typescript', 'python', 'coding standards', 'backend data', 'postgresql database', 'microservices architecture', 'computer science', 'back end development', 'restful api development', 'json graphql', 'sql', 'postgresql', 'selenium', 'docker', 'cloud services', 'enterprise web applications', 'agile environment', 'data structures', 'algorithms', 'design patterns', 'git commands', 'agile jira confluence job types']\",\n",
       "        \"['thentia thentia cloud', 'predictive analytics', 'big data', 'ai', 'professional development', 'modern javascript software development best practices', 'modern javascript', 'web', 'scrum meetings', 'thentia cloud portal product', 'software developer', 'software packages', 'implementation', 'development', 'code', 'latest design patterns', 'deployment', 'web applications', 'frontend javascript frameworks', 'java script', 'serverside programming languages', 'c', 'python', 'mysql', 'sql server', 'software design patterns', 'git', 'employee stock options plan yearend bonus remote hybrid working options professional development']\",\n",
       "        \"['full stack developer location', 'expanding multidisciplinary agile teams', 'developers', 'devops', 'desired skills', 'full stack developer', 'ui skills', 'â€ “ reactjs typesctipt javascript webpack additional skills', '“ nodejs angular pcf', 'microsoft identity framework', 'azure functions']\",\n",
       "        \"['full stack developer python', 'javascript', 'html', 'html css â€ “ job description fullstack web application development', 'python', 'architectural discussions', 'enforce code structure', 'code quality', 'execution', 'product development', 'html css â€ “ mandatory skills', 'end python', 'current web server frameworks', 'django', 'ideally python framework strong background', 'sql', 'git', 'svn', 'excellent analytical problemsolving skills', 'html css assignment location toronto']\",\n",
       "        \"['analytics approach', 'data engineers', 'analysts', 'developers', 'repeatable interpretable dynamic scalable models', 'analytic data products', 'disparate internal external data sources', 'data science', 'experienced data scientists', 'computer science', 'data science machine learning experience', 'aws tools', 'python', 'complex sql queries', 'machine learning concepts', 'large scale data sets', 'entire data science lifecycle', 'deployment', 'ml models', 'cloud data warehouses', 'snowflake data cloud', 'google bigquery', 'azure synapse', 'artificial intelligence machine learning', 'streaming data ingestion', 'analytics', 'various analytical models']\",\n",
       "        \"['data', 'developing algorithms', 'infrastructure', 'computer science', 'machine learning graduating', 'programs', 'development']\",\n",
       "        \"['statistical mathematical predictive modeling business analysis skills', 'advanced analytical solutions', 'manipulate data', 'analysis', 'data', 'machine learning model life cycle', 'machine learningdeep learning models', 'exploratory data analysis', 'prediction models', 'right data solutions', 'data science team', 'statistical analysis', 'machine learning approach', 'abilities', 'software engineering', 'computer science', 'software development', 'business intelligence environments', 'data architecture', 'applied machine learning', 'multiple programming languages', 'modelling', 'extensive learning development programs', 'recognition program employee perk program', 'infrastructure engineering', 'data analytics']\",\n",
       "        \"['proprietary software solutions', 'global development centres', 'technology development', 'infrastructure', 'software solutions', 'continuous integration', 'continuous deployment automation document solutions', 'years experience building machine learning models', 'aws', 'cloud proficiency', 'linux shell']\",\n",
       "        \"['machine learning', 'power', 'data', 'machine learning models', 'data science team', 'foundational patterns', 'datasets', 'ml models', 'computer science', 'machine learning concepts', 'strong programming skills', 'python', 'java', 'machine learning engineering']\",\n",
       "        \"['comprehensive data', 'data services', 'model development', 'development', 'models', 'implementation', 'query', 'data', 'product software solutions', 'existing models', 'ml models', 'mining structured unstructured data', 'statistics', 'algorithms', 'regression analysis', 'classification analysis', 'data pipeline building', 'data visualization', 'python', 'sql', 'extensive knowledge', 'treebased algorithms', 'generalized linear models', 'cloud services', 'bash scripting', 'learning development opportunities', 'internal learning development program', 'career development']\",\n",
       "        \"['machine learning', 'power', 'us engineer models', 'framework automation solutions', 'robust highperforming models', 'software engineering bestpractices', 'machine learning engineer', 'modelling workflow', 'high quality models', 'models', 'computing infrastructure', 'cloud technologies', 'azure kubernetes', 'python', 'code api design knowledge', 'machine learning modelling', 'detailed code reviews', 'framework knowledge', 'machine learning algorithms experience', 'azure cloud stack data analytics job requirements', 'job family advanced analytics', 'modelling', 'category primary business analysis']\",\n",
       "        \"['machine learning engineer', 'data analytics team', 'machine learning algorithms', 'data', 'data engineers', 'new data', 'machine learning standards', 'automate machine learning operations', 'machine learning solutions', 'initial models', 'aws', 'analytical skills', 'experience building machine learning pipelines', 'computer science', 'statistics', 'analytics', 'machine learning lifecycle', 'data gathering', 'model deployment', 'experience deploying machine learning models', 'classification algorithms', 'data tools', 'sql', 'r', 'python', 'building api', 'artificial intelligence solutions']\",\n",
       "        \"['implementation', 'ai', 'development', 'machine learning engineer', 'well architected software systems principles', 'continuous development', 'computer science', 'machine learning', 'data science', 'entire machine learning lifecycle', 'deployment', 'transformers transfer learning semisupervised learning data augmentation', 'python', 'solid knowledge', 'data structures', 'objectoriented programming software engineering principles', 'cloud', 'google cloud platform', 'models']\",\n",
       "        \"['machine learning', 'transaction data', 'artificial intelligence', 'cash app', 'analytics', 'machine learning models', 'rd party data', 'risk models', 'data', 'models', 'app', 'prioritization algorithms', 'automate conversations', 'python', 'mysql', 'tableau java', 'applied machine learning', 'computer science', 'ai', 'ml models', 'open developer platform']\",\n",
       "        \"['artificial intelligence', 'algorithms', 'production models', 'development team', 'python', 'machine learning', 'web development', 'data pipelines', 'designing', 'production quality ml models', 'data scientists', 'data acquisition', 'image classification segmentation models', 'preprocessing data augmentation strategies', 'prototyped computer vision algorithms', 'deep learning based computer vision models', 'software stack', 'machine learning processes', 'computer science', 'computer engineering', 'statistics', 'software development', 'data manipulation', 'python years', 'production scale machine learning models', 'pytorch deep learning framework', 'foundational statistics concepts', 'ml algorithms', 'transformer based models algorithm', 'model development experience', 'scientific computing libraries', 'deep learning models', 'deployment purposes', 'sql nosql databases', 'etl tools', 'git', 'data accuracy', 'privacy preserving federated machine learning research publications']\",\n",
       "        \"['personal professional development', 'development', 'deployment', 'machine learning models', 'web search', 'machine learning', 'interactive machine learning', 'machine teaching', 'machine learning algorithms', 'machine', 'data collection annotation efforts', 'realtime data', 'machine learning data pipelines', 'design tests', 'cuttingedge machine learning technologies', 'computer science', 'algorithms data structures', 'strong programming skills', 'python', 'programming languages', 'java', 'machine learning tools', 'distributed streaming data technologies', 'docker', 'ranking algorithms']\",\n",
       "        \"['machine learning', 'ai', 'data', 'machine intelligence', 'suitable algorithms', 'latest developments', 'handson machine learning experience', 'computer science', 'semantic analysis', 'deep learning models', 'machine learning frameworks', 'python', 'large machine learning models', 'machine learning models']\",\n",
       "        \"['machine learning engineer', 'deep learning models', 'unstructured data', 'new models', 'abilities', 'infrastructure', 'intelligence layer', 'models', 'model models', 'legacy code', 'machine learning infrastructure', 'datasets', 'computer science', 'software engineering', 'statistics', 'data modeling', 'machine learning', 'python', 'java experience', 'premium coverage']\",\n",
       "        \"['development', 'implementation', 'query', 'data', 'product software solutions', 'existing models', 'ml models', 'mining structured unstructured data', 'models', 'statistics', 'algorithms', 'regression analysis', 'classification analysis', 'data pipeline building', 'data visualization', 'python sql etc extensive knowledge', 'treebased algorithms', 'generalized linear models', 'cloud services', 'aws', 'docker', 'python', 'bash scripting', 'career development', 'learning development opportunities', 'internal learning development program']\"],\n",
       "       dtype=object),\n",
       " array(['Data Analyst', 'Data Analyst', 'Data Analyst', 'Data Analyst',\n",
       "        'Data Analyst', 'Data Analyst', 'Data Analyst', 'Data Analyst',\n",
       "        'Data Analyst', 'Data Analyst', 'Data Analyst', 'Data Analyst',\n",
       "        'Data Analyst', 'Data Analyst', 'Data Analyst', 'Cloud Engineer',\n",
       "        'Cloud Engineer', 'Cloud Engineer', 'Cloud Engineer',\n",
       "        'Cloud Engineer', 'Cloud Engineer', 'Cloud Engineer',\n",
       "        'Cloud Engineer', 'Cloud Engineer', 'Cloud Engineer',\n",
       "        'Cloud Engineer', 'Cloud Engineer', 'Cloud Engineer',\n",
       "        'Cloud Engineer', 'Cloud Engineer', 'Database Administrator',\n",
       "        'Database Administrator', 'Database Administrator',\n",
       "        'Database Administrator', 'Database Administrator',\n",
       "        'Database Administrator', 'Database Administrator',\n",
       "        'Database Administrator', 'Database Administrator',\n",
       "        'Database Administrator', 'Database Administrator',\n",
       "        'Database Administrator', 'Database Administrator',\n",
       "        'Database Administrator', 'Database Administrator',\n",
       "        'Full Stack Developer', 'Full Stack Developer',\n",
       "        'Full Stack Developer', 'Full Stack Developer',\n",
       "        'Full Stack Developer', 'Full Stack Developer',\n",
       "        'Full Stack Developer', 'Full Stack Developer',\n",
       "        'Full Stack Developer', 'Full Stack Developer',\n",
       "        'Full Stack Developer', 'Full Stack Developer',\n",
       "        'Full Stack Developer', 'Full Stack Developer',\n",
       "        'Full Stack Developer', 'machine learning engineer',\n",
       "        'machine learning engineer', 'machine learning engineer',\n",
       "        'machine learning engineer', 'machine learning engineer',\n",
       "        'machine learning engineer', 'machine learning engineer',\n",
       "        'machine learning engineer', 'machine learning engineer',\n",
       "        'machine learning engineer', 'machine learning engineer',\n",
       "        'machine learning engineer', 'machine learning engineer',\n",
       "        'machine learning engineer', 'machine learning engineer'],\n",
       "       dtype=object))"
      ]
     },
     "execution_count": 6,
     "metadata": {},
     "output_type": "execute_result"
    }
   ],
   "source": [
    "x = df.iloc[:,-1].values\n",
    "y = df.iloc[:,1].values\n",
    "x,y"
   ]
  },
  {
   "cell_type": "code",
   "execution_count": 66,
   "id": "173a7a90",
   "metadata": {},
   "outputs": [
    {
     "data": {
      "text/plain": [
       "numpy.ndarray"
      ]
     },
     "execution_count": 66,
     "metadata": {},
     "output_type": "execute_result"
    }
   ],
   "source": [
    "type(x)"
   ]
  },
  {
   "cell_type": "code",
   "execution_count": 68,
   "id": "3db7ec2f",
   "metadata": {},
   "outputs": [
    {
     "data": {
      "text/plain": [
       "\"['data analyst', 'data', 'new data extract requirements', 'advanced skills', 'data analysis', 'data mapping', 'data modeling', 'data lakes', 'analytics data analytics', 'aws quicksight redshift data migration', 'sql', 'etl scripting', 'integration', 'rest apis', 'nodejs aws lambdaapi gateway detailed duties', 'source data', 'wellprepared datasets', 'development', 'dashboards', 'analysis', 'statistical models', 'handson development', 'analytical solutions', 'available data', 'analytical needs', 'statistical findings', 'appropriate algorithms', 'data structures', 'analyst', 'programming languages', 'graphql', 'nodejs aws lambdaapi gateway experience', 'data mining', 'quantitative analysis experience', 'machine learning algorithms', 'associated data', 'analytical problem solving datadrivenmetrics driven job type']\""
      ]
     },
     "execution_count": 68,
     "metadata": {},
     "output_type": "execute_result"
    }
   ],
   "source": [
    "x[0]"
   ]
  },
  {
   "cell_type": "code",
   "execution_count": 67,
   "id": "79b4e0ae",
   "metadata": {},
   "outputs": [
    {
     "data": {
      "text/plain": [
       "(75,)"
      ]
     },
     "execution_count": 67,
     "metadata": {},
     "output_type": "execute_result"
    }
   ],
   "source": [
    "x.shape"
   ]
  },
  {
   "cell_type": "code",
   "execution_count": 5,
   "id": "93ebe8cc",
   "metadata": {},
   "outputs": [],
   "source": [
    "# skillset=df['keywords']\n",
    "# pro=skillset.str.lower()\n",
    "# pro=pro.str.replace('\\s+','')\n",
    "# pro=pro.str.replace(r'[^\\w\\d\\s]',' ')\n",
    "# pro=pro.str.replace(r'\\s+',' ')\n",
    "# pro=pro.str.replace(r'^\\s+|\\s+?$','')\n",
    "# print(pro)"
   ]
  },
  {
   "cell_type": "code",
   "execution_count": 9,
   "id": "d934c602",
   "metadata": {},
   "outputs": [],
   "source": [
    "vector=CountVectorizer()"
   ]
  },
  {
   "cell_type": "code",
   "execution_count": 7,
   "id": "c0154d09",
   "metadata": {},
   "outputs": [
    {
     "data": {
      "text/plain": [
       "array([\"['data analyst', 'data', 'new data extract requirements', 'advanced skills', 'data analysis', 'data mapping', 'data modeling', 'data lakes', 'analytics data analytics', 'aws quicksight redshift data migration', 'sql', 'etl scripting', 'integration', 'rest apis', 'nodejs aws lambdaapi gateway detailed duties', 'source data', 'wellprepared datasets', 'development', 'dashboards', 'analysis', 'statistical models', 'handson development', 'analytical solutions', 'available data', 'analytical needs', 'statistical findings', 'appropriate algorithms', 'data structures', 'analyst', 'programming languages', 'graphql', 'nodejs aws lambdaapi gateway experience', 'data mining', 'quantitative analysis experience', 'machine learning algorithms', 'associated data', 'analytical problem solving datadrivenmetrics driven job type']\",\n",
       "       \"['models', 'business data requirements', 'complete reporting analytics solutions', 'extensive sql query skills', 'tableau dashboard reporting', 'adhoc analytics', 'development', 'data sources', 'abilities', 'equivalent business experience', 'analytical findings', 'sql excellent communication skills', 'strong analytical conceptual thinking skills', 'data', 'spot patterns', 'hybrid remote model learning development programs', 'recognition program employee perk program', 'analytical critical thinkers', 'analysis', 'corporate data analytics', 'key analytics']\",\n",
       "       \"['data analyst', 'data collection', 'analysis', 'cotawide data analyst tasks', 'analytics', 'key data sets', 'demographics development', 'data elements', 'data', 'quarterly tay performance dashboard report cotawide tasks', 'statistical reports', 'programmatic andor strategic decisions', 'design improvements', 'data integrity issues', 'data integrity', 'data inconsistences', 'implementation', 'statistical analysis', 'presentation skills', 'advanced microsoft office skills', 'computer science', 'data analytics', 'agile workforce', 'report']\",\n",
       "       \"['microsoft excel', 'jr research analyst', 'reporting models', 'data', 'program developments', 'core analytical skills filter â€œcleanâ€\\\\x9d data', 'computer reports', 'statistics', 'excel', 'pivot tables', 'quality oriented proven organizational skills', 'htmlcss coding skills']\",\n",
       "       \"['data analyst', 'interpreting', 'data', 'data analysis', 'raw data', 'meaningful statistics', 'excel based analysis min years experince', 'microsoft access sql skills job type', 'sql']\",\n",
       "       \"['data management capabilities', 'data', 'data analyst', 'data analysis', 'resulting digital data analysis', 'data management needs', 'business data requirements', 'cloud storage', 'data analytics', 'data models', 'dashboards', 'sensitive personal data', 'data management', 'data management reporting requirements', 'relevant data modeling techniques data analytics tools', 'microsoft dataverse platform', 'power bi', 'equivalent low code', 'code data management', 'analysis solutions', 'analytics', 'programs', 'relevant data analysis experience', 'technologically sensible data management analytics solutions', 'skills microsoft', 'apps knowledge', 'powerpoint', 'advanced excel', 'microsoft office applications', 'especially data management', 'ms excel', 'analyses', 'development teams', 'microsoft power apps', 'power automate', 'agile project methodology', 'microsoft power bi', 'microsoft power', 'automate']\",\n",
       "       \"['parttime data analyst asap', 'https mineralpricescom https ecologyfinancecom https mineralfundscom']\",\n",
       "       \"['data analyst', 'business intelligence analyst', 'power', 'dashboards', 'data trends build optimized data models', 'dashboard requirements', 'data', 'enterprise data warehouses', 'kpis', 'dashboard data', 'data model construction', 'data analysis share solutions', 'broader analytics', 'latest power', 'big data', 'data science', 'predictive modelling', 'data governance', 'advanced excel', 'computer science', 'statistics', 'developing data models', 'dashboards experience gathering business requirements', 'sql', 'data visualization tools', 'power bi', 'tableau', 'azure stack', 'bi â€ “ data lake gen', 'azure synapse', 'devops', 'data architecture', 'python', 'r', 'erp systems experience', 'development']\",\n",
       "       \"['data solutions team', 'new data analyst', 'proprietary data', 'associated analytics', 'proprietary databases', 'canadian development market', 'data entry', 'report', 'data', 'data sets', 'create dashboards', 'models', 'commercial residential real estate market analytics', 'commercial real estate development industry', 'ms office', 'tableau', 'analytical skills']\",\n",
       "       \"['data', 'numbers', 'data analyst', 'development', 'analysis', 'data issues', 'business data analysts', 'addressable analytical questions', 'impactful insightful dashboards', 'performance analyst role advanced sas enterprise guide', 'server mysql advanced experience', 'visual analytics tools', 'eg tableau advanced microsoft word', 'powerpoint', 'excel', 'big data tools', 'ie hive python customer', 'highlevel data', 'statistics', 'computer science', 'programs', 'professional development', 'advanced analytics']\",\n",
       "       \"['complex statistical information', 'complex data', 'dashboard', 'data']\",\n",
       "       \"['data analyst hybrid contract duration', 'data analyst', 'computer databases', 'typical data analyst', 'computer database', 'programs', 'databases', 'analysts', 'database development', 'microsoft sql knowledge', 'database management software']\",\n",
       "       \"['data analyst', 'data management', 'new data', 'data enhancements', 'analyst', 'development', 'implementation', 'data mapping', 'data sourcing workflows', 'systems integration', 'data quality enhancements', 'data specifications', 'document data', 'data integration developments', 'solution design data flows', 'business analysis', 'infrastructure', 'analysis', 'databases', 'data modelling', 'database tables', 'detailed oriented individual', 'ms suite', 'excel word power bi', 'sql', 'robert half app']\",\n",
       "       \"['senior analyst â€ “ data architecture', 'data architecture team', 'master data sets', 'troubleshooting data issues', 'data analyst', 'popular data analysis tools', 'databases', 'analysis', 'data sets', 'data sources', 'data capture process', 'data storage structures', 'data mining', 'data cleansing', 'confidential data', 'data', 'detailed analysis', 'data integrity', 'complex data analysis', 'data management industry data visualization tools', 'tableau']\",\n",
       "       \"['analytics', 'data analyst', 'campaign execution', 'performancepredictive analytics', 'models', 'multiple data sources', 'data insights', 'data collection', 'data integrity', 'reconcile data', 'champion data standards', 'data governance', 'data capabilities', 'data analytics', 'data', 'large datasets', 'data visualization', 'strong analytical skills', 'databases', 'data visualization tools', 'tableau', 'google data studio', 'power bi', 'statistics', 'statistical packages', 'datasets', 'sas', 'r', 'excel', 'crm systems', 'programming language', 'plus xml javascript', 'etl frameworks', 'computer science', 'web analytics', 'google analytics', 'attribution models']\",\n",
       "       \"['cloud', 'best cloud practice recommendations', 'models', 'databases', 'cloud native architecture', 'publicprivatehybrid cloud', 'cloud native design', 'developers']\",\n",
       "       \"['data science', 'azure cloud architect', 'azure platform', 'microsoft azure solutions', 'azure ad', 'microsoft azure architecture collaboration', 'technical designing building observability platform', 'implementation', 'microsoft azure cloud platform', 'infrastructure', 'storage', 'microsoft azure', 'cloud architecture development', 'azure architecture', 'design patterns', 'azure native solutions', 'cloud application solutions', 'scalable apis', 'agile development approaches', 'azure log analytics', 'modern architectural patterns', 'devops', 'temporal rapid development tools', 'agile secure lifecycle', 'aws', 'gcp experience', 'development languages', 'power', 'abilities']\",\n",
       "       \"['aws cloud architect', 'cloud landscape', 'computer systems engineering aws certification', 'aws architecture', 'cloud native applications', 'aws']\",\n",
       "       \"['development practices', 'public cloud', 'development', 'cloud', 'cloud architect', 'cloud platformenterprise architecture team', 'cloud adoption strategy', 'cloud platform capabilities', 'cloud platforms', 'cloud common functionality', 'cloud providers', 'cloud platform', 'infrastructure', 'code', 'design patterns', 'architectural governance process activities', 'application development lifecycle', 'computer science', 'cloud transformation', 'cloud platformcomponentsservices development', 'strong development experience', 'language framework experience', 'software development life cycle', 'cloud infrastructure', 'experience developing deploying cloud infrastructure', 'software architecture', 'cloud platform features', 'google gcp', 'web apis', 'devops']\",\n",
       "       \"['microsoft cloud engineerarchitect â€ “ azure', 'cloud engineerarchitect â€ “ azure', 'implementation', 'public private hybrid cloud technologies', 'microsoft public', 'azure infrastructure', 'azure platform', 'analysis services', 'azure ad', 'microsoft azure', 'sql', 'microsoft technologies', 'azure virtual machines', 'rds server setup', 'development', 'deployment', 'infrastructure support', 'windows server', 'microsoft azure infrastructure', 'infrastructure technologies', 'storage', 'azure active directory', 'large o office exchange sharepoint ms teams', 'microsoft infrastructure']\",\n",
       "       \"['architect cloud nativehybrid cloud infrastructure solutions', 'mentor devops', 'cloud engineers', 'implementation', 'aws infrastructure', 'cloud security strategy', 'aws wellarchitected framework', 'highperforming resilient efficient infrastructure', 'architectural design patterns', 'cloud architect', 'powershell bash python perl scripting language', 'netnet core software build', 'docker', 'linux server administration experience', 'aws cloud formation', 'aws', 'infrastructure monitoring tools', 'windows server administration', 'networking knowledge']\",\n",
       "       \"['cloud solutions', 'aws cloud solution architect', 'analysis', 'development', 'implementation', 'software applications', 'aws', 'aws s', 'data warehouse solutions', 'designing etl pipelines', 'automated data load', 'data modeling', 'aws redshift experience']\",\n",
       "       \"['hybrid cloud platform', 'hybrid cloud management portal', 'cloud product architect', 'implementation', 'cloud', 'development', 'architectural design', 'deployment', 'cloud products', 'cloud systems architecture ability', 'equivalent experience', 'cloud technologies', 'multicloud environments business analysis experience', 'previous cloud implementation', 'azure aws vmwarebased environments']\",\n",
       "       \"['implementation', 'public cloud technologies', 'primarily microsoft azure working knowledge', 'public cloud design', 'azure cloud foundation services', 'azure site recovery deployment planner tool working knowledgeexperience', 'azure ad', 'deployment', 'public cloud', 'native microsoft azure toolsets', 'azure migrate theoreticalworking knowledge', 'cicd pipeline process knowledge', 'python scripting', 'cloud foundation design', 'complex cloud designs', 'implementation migration projects', 'analytical presentation documentation skills']\",\n",
       "       \"['designing', 'development', 'architectural design application development', 'software development', 'implementation', 'cloud digital transition', 'computer science', 'soa design', 'cloud environments', 'agile scrum method']\",\n",
       "       \"['cloud solution architect position', 'aws cloud services', 'bmo capital markets cloud roadmap', 'enterprise architecture', 'cloud application patterns', 'cloud engineering team members', 'cloud patterns', 'development', 'data', 'infrastructure', 'devops', 'cloud solutions', 'programmatic integration', 'cloud applications', 'data services', 'application data architecture models', 'automate deployment patterns', 'application infrastructure roadmaps consult', 'cloud', 'factor development practices', 'microservices oriented application deployment', 'cloud migration', 'infrastructure roadmaps', 'new cloud innovations', 'cloud design patterns', 'cloud native architecture', 'cloud operations', 'cloud security models', 'cloud platforms patterns', 'cloud services', 'power economic growth']\",\n",
       "       \"['cloud architect', 'infrastructure', 'existing cloud presence', 'science', 'multiple cloud platforms', 'cloud infrastructure', 'tier web applications', 'cloud environments', 'aws', 'cloud platforms', 'linux systems', 'devops team', 'linux administration', 'aws cloud technologies', 'web server technologies', 'rdbms nosql databases', 'mysql', 'postgresql', 'creative analytical approach']\",\n",
       "       \"['cloud architect', 'storage', 'nosql', 'databases', 'qualified cloud architect', 'aws', 'aws evangelist', 'cloud', 'agile model', 'devops culture', 'cloud advocates', 'deep architectural discussions', 'aws platform', 'sas', 'years design implementation experience', 'infrastructure design', 'infrastructure', 'database architectures', 'handson aws implementation knowledge', 'implementation', 'software development tools', 'methodologies presentation skills', 'developers', 'computer science', 'related aws certified solutions', 'data', 'forbes']\",\n",
       "       \"['cloud', 'cloud architect', 'development activities', 'requirement analysis', 'architecture software design', 'lean agile organization', 'development', 'data', 'infrastructure', 'implementation', 'big sophisticated systems', 'architecture solid experience', 'web application development', 'java experience', 'elasticsearch postgres experience', 'building system software architectures', 'data platform security experience', 'designing', 'sophisticated largescale solutions', 'software development lifecycles', 'basic knowledge', 'cloud platforms', 'presentation skills']\",\n",
       "       \"['foundational knowledge', 'customer cloud adoption', 'power', 'microsoft cloud solutions', 'microsoft cloud solution', 'microsoft azure platform', 'customer microsoft azure applications development platform', 'azure applications development technical customer engagements', 'architectural design sessions', 'specific implementation projects', 'developers', 'adapts business models', 'architecture design', 'deployment leverages', 'data', 'architecture solutions', 'technical architecture design', 'development', 'deployment', 'implementation', 'architecture implementations', 'eg wellarchitected framework', 'cloud adoption framework', 'practice development', 'competitors architecture solutions', 'production deployment application', 'cloud hybrid infrastructures', 'development languages', 'java', 'javascript', 'python', 'c nodejs scalable architectures', 'azure app service', 'software development practices', 'devops', 'azure devops', 'modern software development techniques', 'ie docker kubernetes red hat openshift cloud foundry azure kubernetes service github advanced knowledge', 'computer science']\",\n",
       "       \"['universityâ€™s voice data communications', 'server storage infrastructure', 'web application development', 'erp administration', 'data integrity', 'data availability', 'universityâ€™s central academic administrative databases', 'erp systems', 'computer science', 'erp management systems', 'development', 'databases', 'proficient computer skills', 'programming', 'systems analysis', 'computer hardware', 'integration']\",\n",
       "       \"['solicitor general', 'data management', 'development', 'data management structures', 'data management expertise', 'databases', 'data modelling tools', 'application development aids', 'database design development knowledge', 'database design standards', 'ministry knowledge', 'unixbased computer system technologies', 'unix operating systems', 'design knowledge', 'database development methodology', 'programming languages', 'data types', 'data dictionaries', 'data storage', 'multipurpose multiclient based databases', 'data bases', 'data recovery', 'database software', 'data management techniquesservices', 'sql', 'oracle database administration', 'unix', 'unix shell scripting', 'host scripting', 'java programming', 'database replication', 'data management aspects', 'data management strategies', 'data management requirements', 'database design data organization', 'data management component', 'corporate data models', 'ministry databases', 'data corruption', 'interpreting', 'college st rd flr']\",\n",
       "       \"['sql server databases', 'sharepoint functions', 'operational management data', 'data integrity', 'data audits', 'development lifecycle', 'deployment', 'database software', 'data', 'data warehouse structures', 'database configuration', 'data models', 'data cleansing rules', 'data transformation rules designs', 'data transformation rules', 'software development life cycle', 'rapid application development', 'databases', 'data schemas', 'adhoc sql queries', 'large data files', 'sharepoint portal server infrastructure', 'application deployment', 'web portal servers', 'infrastructure', 'execution', 'integration', 'administers microsoft sharepoint portal server', 'performance analysis researches', 'development', 'developers', 'computer science', 'computer engineering', 'sharepoint platform', 'administrative capacity development experience', 'microsoft sql server', 'sharepoint designer experience', 'sql server reporting services', 'sql server integration services', 'sql server analysis services', 'debugging skills', 'ms sharepoint architecture', 'relational database structures', 'microsoft sharepoint', 'database design', 'microsoft sql', 'windowsbased server skills', 'ms office applications', 'excel', 'powerpoint', 'analytical data warehousing techniques', 'ie data warehouse lifecycle', 'dimensional data modeling', 'data modeling', 'etl design']\",\n",
       "       \"['infrastructure', 'implementation', 'new database analytics services', 'database analytics services', 'usability automate code deployment', 'build books', 'data access', 'database backup', 'devops', 'rd level support', 'traditional microsoft sql database administrator experience', 'azure database analytics services', 'microsoft sql server', 'ie sql ssas ssis ssrs azure database analytics services', 'ie azure sql', 'azure synapse', 'azure data factory', 'azure data lake', 'power apps', 'power bi', 'data preparation', 'advanced analytics', 'complex reports development', 'azure platform', 'azure devops', 'agile principles', 'development methodologies']\",\n",
       "       \"['database development', 'data systems', 'data', 'data scientists', 'devops engineers', 'data architects', 'data engineers', 'broader strategy', 'building software', 'agile continuous delivery environment', 'data architecture', 'data operations', 'data science', 'employee development', 'development life cycle', 'coding standards', 'code reviews', 'practical development experience', 'aws', 'major public cloud provider', 'agile development', 'multiple data stores', 'postgresql', 'aws dynamodb']\",\n",
       "       \"['database environments', 'database solutions', 'sybase db greenplum database technologies', 'data', 'development', 'infrastructure', 'staff development', 'strong analytical critical thinking skills', 'implementation experience', 'data model design', 'multiple database related functions', 'database related solutions']\",\n",
       "       \"['mssql databases', 'databases', 'mysql experience']\",\n",
       "       \"['computer installations', 'computer systems', 'data protection', 'desktop applications', 'storage', 'computer science', 'equivalent experience', 'linux', 'scripting automation tools', 'job leadership development programs']\",\n",
       "       \"['microsoft sql database administration', 'microsoft sql database administration experience experience', 'azure build automation', 'microsoft sql database administration experience', 'microsoft azure sql database', 'synapse database', 'oracle sql server stored procedure development', 'git', 'microsoft azure technologies']\",\n",
       "       \"['database design', 'test data models', 'implementation', 'data', 'data administration policy', 'models research document data requirements', 'data collection', 'data access rules', 'data conduct research', 'data lead', 'data administrators', 'development', 'data policies', 'models']\",\n",
       "       \"['ms sql server', 'server', 'designing', 'database infrastructure', 'programming languages']\",\n",
       "       \"['gts ecco database architecture', 'wealth management databases', 'dundee databases', 'modern database technologies', 'oracle database versions', 'c', 'automatic storage management', 'data guard', 'database replication tools']\",\n",
       "       \"['data warehouse database administrator', 'data warehouse', 'oracle data integrator', 'oracle analytics server', 'oracle databases', 'oracle business intelligence software upgrades manageadminister backups', 'tune etl', 'sql queries', 'linux shell scripts', 'computer systems design', 'computer science', 'database technologies', 'coding language', 'python']\",\n",
       "       \"['computer systems', 'instrument price reference data', 'vendor data', 'data standards concepts', 'scripting languages', 'java script', 'complex data analysis', 'data linage', 'analysis', 'data modelling · ideal candidate', 'master data management enterprise solutions', 'behavior driven development', 'agile teams']\",\n",
       "       \"['data integrity', 'effective reporting business intelligence framework', 'sql reports', 'database architectural design', 'assigned sql server infrastructure projects', 'computer science', 'sql', 'sql server', 'advanced sql scripting', 'transact sql', 'programming knowledge', 'performance analysis', 'erd ’ data dictionaries', 'architecture diagrams', 'power bi', 'development']\",\n",
       "       \"['full stack developer', 'development', 'agile development activities', 'sprint code reviews', 'debugging issues', 'system design skills', 'uml', 'typescript', 'sql database experience', 'graphql', 'electron', 'python', 'postgresql', 'git']\",\n",
       "       \"['proprietary cloud platform infin', 'realtime analytics', 'customized crm platform', 'fullstack development', 'creative resourceful techsavvy full stack developer', 'development', 'software development lifecycle', 'analysis', 'design patterns', 'coding standards', 'code', 'product development', 'development team members', 'analysis requirements success', 'full stack developer', 'computer science', 'graphql apis', 'cloud platform', 'javascript', 'jquery c', 'java', 'python javascript frameworks', 'react']\",\n",
       "       \"['software hardware solutions', 'software development', 'full stack developer', 'r', 'cuttingedge software solutions', 'full stack software solutions', 'detailed analysis', 'unitlevel code development', 'software integration', 'design code reviews preparation', 'computer science', 'computer engineering', 'minimum years full stack developer experience webbased frontend application framework webbased ui programming', 'html css javasscriptjquery nodejs sql nosql experience', 'c', 'python linux unix environment operating systems principles', 'mandatory traffic systems knowledge mobile app development', 'flutter framework', 'similar experience machine learning', 'data mining', 'machine intelligence', 'artificial intelligence realtime software development lidar pointcloud classification']\",\n",
       "       \"['full stack developer', 'development', 'web app', 'integration', 'software systems', 'architectural elements', 'special development projects', 'database driven web application design development full stack developer experience', 'python', 'django', 'node', 'react experience', 'mysql knowledge', 'web protocols', 'git', 'native nosql containerization', 'docker aws automation', 'lambda']\",\n",
       "       \"['full stack developer', 'web mobile financial solutions', 'modern javascript technologies', 'agile approach', 'modern software technologies', 'legacy code', 'professional development', 'informed decision', 'top notch javascript coding practices', 'pure sass', 'modern javascript frameworks', 'agile software development methodology', 'mobile software', 'javascript', 'nodejs', 'server side architectures', 'restful apis experience', 'python', 'git typical git flow']\",\n",
       "       \"['full stack developers', 'software developer', 'product development', 'data engineers', 'development technical team', 'software implementations', 'infrastructure integration', 'overall development process', 'software development', 'modern javascript', 'software stack', 'analysis', 'typescript â', 'html canvas', 'statistical techniques']\",\n",
       "       \"['talented full stack developer', 'code', 'detailed design', 'agile team', 'review feasibility', 'design phases', 'code development process', 'code structure design consistency', 'programs', 'polyglot programming skills', 'multiple computer languages', 'javascript', 'c htmlcss', 'years software development', 'fullstack development', 'html', 'restful apis', 'sql', 'design patterns', 'fastpaced agile development environment', 'git', 'booking engine api integration', 'native hybrid mobile app development', 'cloud environments', 'aws', 'data visualization']\",\n",
       "       \"['dynamic product development consultancy', 'full stack software developer', 'web mobile products', 'mobile apps', 'years fullstack software development experience', 'additional fullstack software development experience', 'google cloud', 'amazon web services', 'react']\",\n",
       "       \"['fullstack software engineer', 'development team members', 'javaspring javascriptreact postgresql aws examples', 'databases', 'java experience', 'javascript experience', 'react working knowledge']\",\n",
       "       \"['parttime junior full stack web developer', 'junior full stack web developer', 'code', 'computer science', 'software developer', 'rest apis', 'bootstrap tables', 'mysql database location', 'ontario university computer science program', 'full web development stack', 'javascript', 'mysql', 'web based dashboards', 'ubuntu linux servers', 'code repos', 'coding projects', 'development']\",\n",
       "       \"['great full stack developers', 'jee application server mysql', 'nosql angularjs', 'bootstrap', 'java', 'eclipse plugin development object oriented programing delivery lotus domino']\",\n",
       "       \"['constantly evolving cloud platform', 'complete web development stack', 'server', 'web browser', 'agile product development team', 'appealing web design', 'clean maintainable code', 'web technologies', 'cloud capabilities', 'docker containerization', 'graphql', 'rest apis', 'sql databases', 'essential specifically postgresql', 'javascript experience', 'frontend visualization tool', 'exceptional coding skills', 'web applications', 'strong programming skills', 'clean logical code', 'code', 'javascript', 'typescript', 'python', 'coding standards', 'backend data', 'postgresql database', 'microservices architecture', 'computer science', 'back end development', 'restful api development', 'json graphql', 'sql', 'postgresql', 'selenium', 'docker', 'cloud services', 'enterprise web applications', 'agile environment', 'data structures', 'algorithms', 'design patterns', 'git commands', 'agile jira confluence job types']\",\n",
       "       \"['thentia thentia cloud', 'predictive analytics', 'big data', 'ai', 'professional development', 'modern javascript software development best practices', 'modern javascript', 'web', 'scrum meetings', 'thentia cloud portal product', 'software developer', 'software packages', 'implementation', 'development', 'code', 'latest design patterns', 'deployment', 'web applications', 'frontend javascript frameworks', 'java script', 'serverside programming languages', 'c', 'python', 'mysql', 'sql server', 'software design patterns', 'git', 'employee stock options plan yearend bonus remote hybrid working options professional development']\",\n",
       "       \"['full stack developer location', 'expanding multidisciplinary agile teams', 'developers', 'devops', 'desired skills', 'full stack developer', 'ui skills', 'â€ “ reactjs typesctipt javascript webpack additional skills', '“ nodejs angular pcf', 'microsoft identity framework', 'azure functions']\",\n",
       "       \"['full stack developer python', 'javascript', 'html', 'html css â€ “ job description fullstack web application development', 'python', 'architectural discussions', 'enforce code structure', 'code quality', 'execution', 'product development', 'html css â€ “ mandatory skills', 'end python', 'current web server frameworks', 'django', 'ideally python framework strong background', 'sql', 'git', 'svn', 'excellent analytical problemsolving skills', 'html css assignment location toronto']\",\n",
       "       \"['analytics approach', 'data engineers', 'analysts', 'developers', 'repeatable interpretable dynamic scalable models', 'analytic data products', 'disparate internal external data sources', 'data science', 'experienced data scientists', 'computer science', 'data science machine learning experience', 'aws tools', 'python', 'complex sql queries', 'machine learning concepts', 'large scale data sets', 'entire data science lifecycle', 'deployment', 'ml models', 'cloud data warehouses', 'snowflake data cloud', 'google bigquery', 'azure synapse', 'artificial intelligence machine learning', 'streaming data ingestion', 'analytics', 'various analytical models']\",\n",
       "       \"['data', 'developing algorithms', 'infrastructure', 'computer science', 'machine learning graduating', 'programs', 'development']\",\n",
       "       \"['statistical mathematical predictive modeling business analysis skills', 'advanced analytical solutions', 'manipulate data', 'analysis', 'data', 'machine learning model life cycle', 'machine learningdeep learning models', 'exploratory data analysis', 'prediction models', 'right data solutions', 'data science team', 'statistical analysis', 'machine learning approach', 'abilities', 'software engineering', 'computer science', 'software development', 'business intelligence environments', 'data architecture', 'applied machine learning', 'multiple programming languages', 'modelling', 'extensive learning development programs', 'recognition program employee perk program', 'infrastructure engineering', 'data analytics']\",\n",
       "       \"['proprietary software solutions', 'global development centres', 'technology development', 'infrastructure', 'software solutions', 'continuous integration', 'continuous deployment automation document solutions', 'years experience building machine learning models', 'aws', 'cloud proficiency', 'linux shell']\",\n",
       "       \"['machine learning', 'power', 'data', 'machine learning models', 'data science team', 'foundational patterns', 'datasets', 'ml models', 'computer science', 'machine learning concepts', 'strong programming skills', 'python', 'java', 'machine learning engineering']\",\n",
       "       \"['comprehensive data', 'data services', 'model development', 'development', 'models', 'implementation', 'query', 'data', 'product software solutions', 'existing models', 'ml models', 'mining structured unstructured data', 'statistics', 'algorithms', 'regression analysis', 'classification analysis', 'data pipeline building', 'data visualization', 'python', 'sql', 'extensive knowledge', 'treebased algorithms', 'generalized linear models', 'cloud services', 'bash scripting', 'learning development opportunities', 'internal learning development program', 'career development']\",\n",
       "       \"['machine learning', 'power', 'us engineer models', 'framework automation solutions', 'robust highperforming models', 'software engineering bestpractices', 'machine learning engineer', 'modelling workflow', 'high quality models', 'models', 'computing infrastructure', 'cloud technologies', 'azure kubernetes', 'python', 'code api design knowledge', 'machine learning modelling', 'detailed code reviews', 'framework knowledge', 'machine learning algorithms experience', 'azure cloud stack data analytics job requirements', 'job family advanced analytics', 'modelling', 'category primary business analysis']\",\n",
       "       \"['machine learning engineer', 'data analytics team', 'machine learning algorithms', 'data', 'data engineers', 'new data', 'machine learning standards', 'automate machine learning operations', 'machine learning solutions', 'initial models', 'aws', 'analytical skills', 'experience building machine learning pipelines', 'computer science', 'statistics', 'analytics', 'machine learning lifecycle', 'data gathering', 'model deployment', 'experience deploying machine learning models', 'classification algorithms', 'data tools', 'sql', 'r', 'python', 'building api', 'artificial intelligence solutions']\",\n",
       "       \"['implementation', 'ai', 'development', 'machine learning engineer', 'well architected software systems principles', 'continuous development', 'computer science', 'machine learning', 'data science', 'entire machine learning lifecycle', 'deployment', 'transformers transfer learning semisupervised learning data augmentation', 'python', 'solid knowledge', 'data structures', 'objectoriented programming software engineering principles', 'cloud', 'google cloud platform', 'models']\",\n",
       "       \"['machine learning', 'transaction data', 'artificial intelligence', 'cash app', 'analytics', 'machine learning models', 'rd party data', 'risk models', 'data', 'models', 'app', 'prioritization algorithms', 'automate conversations', 'python', 'mysql', 'tableau java', 'applied machine learning', 'computer science', 'ai', 'ml models', 'open developer platform']\",\n",
       "       \"['artificial intelligence', 'algorithms', 'production models', 'development team', 'python', 'machine learning', 'web development', 'data pipelines', 'designing', 'production quality ml models', 'data scientists', 'data acquisition', 'image classification segmentation models', 'preprocessing data augmentation strategies', 'prototyped computer vision algorithms', 'deep learning based computer vision models', 'software stack', 'machine learning processes', 'computer science', 'computer engineering', 'statistics', 'software development', 'data manipulation', 'python years', 'production scale machine learning models', 'pytorch deep learning framework', 'foundational statistics concepts', 'ml algorithms', 'transformer based models algorithm', 'model development experience', 'scientific computing libraries', 'deep learning models', 'deployment purposes', 'sql nosql databases', 'etl tools', 'git', 'data accuracy', 'privacy preserving federated machine learning research publications']\",\n",
       "       \"['personal professional development', 'development', 'deployment', 'machine learning models', 'web search', 'machine learning', 'interactive machine learning', 'machine teaching', 'machine learning algorithms', 'machine', 'data collection annotation efforts', 'realtime data', 'machine learning data pipelines', 'design tests', 'cuttingedge machine learning technologies', 'computer science', 'algorithms data structures', 'strong programming skills', 'python', 'programming languages', 'java', 'machine learning tools', 'distributed streaming data technologies', 'docker', 'ranking algorithms']\",\n",
       "       \"['machine learning', 'ai', 'data', 'machine intelligence', 'suitable algorithms', 'latest developments', 'handson machine learning experience', 'computer science', 'semantic analysis', 'deep learning models', 'machine learning frameworks', 'python', 'large machine learning models', 'machine learning models']\",\n",
       "       \"['machine learning engineer', 'deep learning models', 'unstructured data', 'new models', 'abilities', 'infrastructure', 'intelligence layer', 'models', 'model models', 'legacy code', 'machine learning infrastructure', 'datasets', 'computer science', 'software engineering', 'statistics', 'data modeling', 'machine learning', 'python', 'java experience', 'premium coverage']\",\n",
       "       \"['development', 'implementation', 'query', 'data', 'product software solutions', 'existing models', 'ml models', 'mining structured unstructured data', 'models', 'statistics', 'algorithms', 'regression analysis', 'classification analysis', 'data pipeline building', 'data visualization', 'python sql etc extensive knowledge', 'treebased algorithms', 'generalized linear models', 'cloud services', 'aws', 'docker', 'python', 'bash scripting', 'career development', 'learning development opportunities', 'internal learning development program']\"],\n",
       "      dtype=object)"
      ]
     },
     "execution_count": 7,
     "metadata": {},
     "output_type": "execute_result"
    }
   ],
   "source": [
    "x"
   ]
  },
  {
   "cell_type": "code",
   "execution_count": 10,
   "id": "541365c3",
   "metadata": {},
   "outputs": [],
   "source": [
    "train_data_features=vector.fit_transform(x)\n"
   ]
  },
  {
   "cell_type": "code",
   "execution_count": 11,
   "id": "6e34d3f3",
   "metadata": {},
   "outputs": [
    {
     "data": {
      "text/plain": [
       "<75x803 sparse matrix of type '<class 'numpy.int64'>'\n",
       "\twith 2500 stored elements in Compressed Sparse Row format>"
      ]
     },
     "execution_count": 11,
     "metadata": {},
     "output_type": "execute_result"
    }
   ],
   "source": [
    "train_data_features"
   ]
  },
  {
   "cell_type": "code",
   "execution_count": 12,
   "id": "debc5cca",
   "metadata": {},
   "outputs": [
    {
     "name": "stdout",
     "output_type": "stream",
     "text": [
      "['abilities', 'ability', 'academic', 'access', 'accuracy', 'acquisition', 'active', 'activities', 'ad', 'adapts', 'additional', 'addressable', 'adhoc', 'administers', 'administration', 'administrative', 'administrator', 'administrators', 'adoption', 'advanced', 'advocates', 'agile', 'ai', 'aids', 'algorithm', 'algorithms', 'amazon', 'analyses', 'analysis', 'analyst', 'analysts', 'analytic', 'analytical', 'analytics', 'andor', 'angular', 'angularjs', 'annotation', 'api', 'apis', 'app', 'appealing', 'application', 'applications', 'applied', 'approach', 'approaches', 'appropriate', 'apps', 'architect', 'architected', 'architects', 'architectural', 'architecture', 'architectures', 'artificial', 'asap', 'aspects', 'assigned', 'assignment', 'associated', 'attribution', 'audits', 'augmentation', 'automate', 'automated', 'automatic', 'automation', 'availability', 'available', 'aws', 'azure', 'back', 'backend', 'background', 'backup', 'backups', 'based', 'bases', 'bash', 'basic', 'behavior', 'best', 'bestpractices', 'bi', 'big', 'bigquery', 'bmo', 'bonus', 'booking', 'books', 'bootstrap', 'broader', 'browser', 'build', 'building', 'business', 'campaign', 'canadian', 'candidate', 'canvas', 'capabilities', 'capacity', 'capital', 'capture', 'career', 'cash', 'category', 'central', 'centres', 'certification', 'certified', 'champion', 'cicd', 'classification', 'clean', 'cleansing', 'cloud', 'code', 'coding', 'collaboration', 'collection', 'college', 'commands', 'commercial', 'common', 'communication', 'communications', 'competitors', 'complete', 'complex', 'component', 'comprehensive', 'computer', 'computing', 'concepts', 'conceptual', 'conduct', 'confidential', 'configuration', 'confluence', 'consistency', 'constantly', 'construction', 'consult', 'consultancy', 'containerization', 'continuous', 'contract', 'conversations', 'core', 'corporate', 'corruption', 'cotawide', 'coverage', 'create', 'creative', 'critical', 'crm', 'css', 'culture', 'current', 'customer', 'customized', 'cuttingedge', 'cycle', 'dashboard', 'dashboards', 'data', 'database', 'databases', 'datadrivenmetrics', 'datasets', 'dataverse', 'db', 'debugging', 'decision', 'decisions', 'deep', 'delivery', 'demographics', 'deploying', 'deployment', 'description', 'design', 'designer', 'designing', 'designs', 'desired', 'desktop', 'detailed', 'developer', 'developers', 'developing', 'development', 'developments', 'devops', 'diagrams', 'dictionaries', 'digital', 'dimensional', 'directory', 'discussions', 'disparate', 'distributed', 'django', 'docker', 'document', 'documentation', 'domino', 'driven', 'dundee', 'duration', 'duties', 'dynamic', 'dynamodb', 'ecco', 'eclipse', 'ecologyfinancecom', 'economic', 'effective', 'efficient', 'efforts', 'eg', 'elasticsearch', 'electron', 'elements', 'employee', 'end', 'enforce', 'engagements', 'engine', 'engineer', 'engineerarchitect', 'engineering', 'engineers', 'enhancements', 'enterprise', 'entire', 'entry', 'environment', 'environments', 'equivalent', 'erd', 'erp', 'especially', 'essential', 'estate', 'etc', 'etl', 'evangelist', 'evolving', 'examples', 'excel', 'excellent', 'exceptional', 'exchange', 'execution', 'existing', 'expanding', 'experience', 'experienced', 'experince', 'expertise', 'exploratory', 'extensive', 'external', 'extract', 'factor', 'factory', 'family', 'fastpaced', 'feasibility', 'features', 'federated', 'files', 'filter', 'financial', 'findings', 'flow', 'flows', 'flr', 'flutter', 'forbes', 'formation', 'foundation', 'foundational', 'foundry', 'framework', 'frameworks', 'frontend', 'full', 'fullstack', 'functionality', 'functions', 'gateway', 'gathering', 'gcp', 'gen', 'general', 'generalized', 'git', 'github', 'global', 'google', 'governance', 'graduating', 'graphql', 'great', 'greenplum', 'growth', 'gts', 'guard', 'guide', 'half', 'handson', 'hardware', 'hat', 'high', 'highlevel', 'highperforming', 'hive', 'host', 'html', 'htmlcss', 'https', 'hybrid', 'ideal', 'ideally', 'identity', 'ie', 'image', 'impactful', 'implementation', 'implementations', 'improvements', 'inconsistences', 'individual', 'industry', 'infin', 'information', 'informed', 'infrastructure', 'infrastructures', 'ingestion', 'initial', 'innovations', 'insightful', 'insights', 'installations', 'instrument', 'integration', 'integrator', 'integrity', 'intelligence', 'interactive', 'internal', 'interpretable', 'interpreting', 'issues', 'java', 'javascript', 'javascriptreact', 'javaspring', 'javasscriptjquery', 'jee', 'jira', 'job', 'jquery', 'jr', 'json', 'junior', 'key', 'knowledge', 'knowledgeexperience', 'kpis', 'kubernetes', 'lake', 'lakes', 'lambda', 'lambdaapi', 'landscape', 'language', 'languages', 'large', 'largescale', 'latest', 'layer', 'lead', 'leadership', 'lean', 'learning', 'learningdeep', 'legacy', 'level', 'leverages', 'libraries', 'lidar', 'life', 'lifecycle', 'lifecycles', 'linage', 'linear', 'linux', 'load', 'location', 'log', 'logical', 'lotus', 'low', 'machine', 'machines', 'maintainable', 'major', 'manageadminister', 'management', 'mandatory', 'manipulate', 'manipulation', 'mapping', 'market', 'markets', 'master', 'mathematical', 'meaningful', 'meetings', 'members', 'mentor', 'method', 'methodologies', 'methodology', 'microservices', 'microsoft', 'migrate', 'migration', 'min', 'mineralfundscom', 'mineralpricescom', 'minimum', 'mining', 'ministry', 'ml', 'mobile', 'model', 'modeling', 'modelling', 'models', 'modern', 'monitoring', 'ms', 'mssql', 'multiclient', 'multicloud', 'multidisciplinary', 'multiple', 'multipurpose', 'mysql', 'native', 'nativehybrid', 'needs', 'netnet', 'networking', 'new', 'node', 'nodejs', 'nosql', 'notch', 'numbers', 'object', 'objectoriented', 'observability', 'office', 'ontario', 'open', 'openshift', 'operating', 'operational', 'operations', 'opportunities', 'optimized', 'options', 'oracle', 'organization', 'organizational', 'oriented', 'overall', 'packages', 'parttime', 'party', 'patterns', 'pcf', 'performance', 'performancepredictive', 'perk', 'perl', 'personal', 'phases', 'pipeline', 'pipelines', 'pivot', 'plan', 'planner', 'platform', 'platformcomponentsservices', 'platformenterprise', 'platforms', 'plugin', 'plus', 'pointcloud', 'policies', 'policy', 'polyglot', 'popular', 'portal', 'position', 'postgres', 'postgresql', 'power', 'powerpoint', 'powershell', 'practical', 'practice', 'practices', 'prediction', 'predictive', 'premium', 'preparation', 'preprocessing', 'presence', 'presentation', 'preserving', 'previous', 'price', 'primarily', 'primary', 'principles', 'prioritization', 'privacy', 'private', 'problem', 'problemsolving', 'procedure', 'process', 'processes', 'product', 'production', 'products', 'professional', 'proficiency', 'proficient', 'program', 'programing', 'programmatic', 'programming', 'programs', 'project', 'projects', 'proprietary', 'protection', 'protocols', 'prototyped', 'proven', 'provider', 'providers', 'public', 'publications', 'publicprivatehybrid', 'pure', 'purposes', 'python', 'pytorch', 'qualified', 'quality', 'quantitative', 'quarterly', 'queries', 'query', 'questions', 'quicksight', 'ranking', 'rapid', 'raw', 'rd', 'rdbms', 'rds', 'react', 'reactjs', 'real', 'realtime', 'recognition', 'recommendations', 'reconcile', 'recovery', 'red', 'redshift', 'reference', 'regression', 'related', 'relational', 'relevant', 'remote', 'repeatable', 'replication', 'report', 'reporting', 'reports', 'repos', 'requirement', 'requirements', 'research', 'researches', 'residential', 'resilient', 'resourceful', 'rest', 'restful', 'resulting', 'review', 'reviews', 'right', 'risk', 'roadmap', 'roadmaps', 'robert', 'robust', 'role', 'rules', 'sas', 'sass', 'scalable', 'scale', 'schemas', 'science', 'scientific', 'scientists', 'script', 'scripting', 'scripts', 'scrum', 'search', 'secure', 'security', 'segmentation', 'selenium', 'semantic', 'semisupervised', 'senior', 'sensible', 'sensitive', 'server', 'servers', 'serverside', 'service', 'services', 'sessions', 'sets', 'setup', 'share', 'sharepoint', 'shell', 'side', 'similar', 'site', 'skills', 'snowflake', 'soa', 'software', 'solicitor', 'solid', 'solution', 'solutions', 'solving', 'sophisticated', 'source', 'sources', 'sourcing', 'special', 'specific', 'specifically', 'specifications', 'spot', 'sprint', 'sql', 'ssas', 'ssis', 'ssrs', 'st', 'stack', 'staff', 'standards', 'statistical', 'statistics', 'stock', 'storage', 'stored', 'stores', 'strategic', 'strategies', 'strategy', 'streaming', 'strong', 'structure', 'structured', 'structures', 'studio', 'success', 'suitable', 'suite', 'support', 'svn', 'sybase', 'synapse', 'system', 'systems', 'tableau', 'tables', 'talented', 'tasks', 'tay', 'teaching', 'team', 'teams', 'technical', 'techniques', 'techniquesservices', 'technologically', 'technologies', 'technology', 'techsavvy', 'temporal', 'test', 'tests', 'thentia', 'theoreticalworking', 'thinkers', 'thinking', 'tier', 'tool', 'tools', 'toolsets', 'top', 'toronto', 'traditional', 'traffic', 'transact', 'transaction', 'transfer', 'transformation', 'transformer', 'transformers', 'transition', 'treebased', 'trends', 'troubleshooting', 'tune', 'type', 'types', 'typescript', 'typesctipt', 'typical', 'ubuntu', 'ui', 'uml', 'unitlevel', 'university', 'universityâ', 'unix', 'unixbased', 'unstructured', 'upgrades', 'us', 'usability', 'various', 'vendor', 'versions', 'virtual', 'vision', 'visual', 'visualization', 'vmwarebased', 'voice', 'warehouse', 'warehouses', 'warehousing', 'wealth', 'web', 'webbased', 'webpack', 'well', 'wellarchitected', 'wellprepared', 'windows', 'windowsbased', 'word', 'workflow', 'workflows', 'workforce', 'working', 'x9d', 'xml', 'yearend', 'years', 'œcleanâ']\n"
     ]
    },
    {
     "name": "stderr",
     "output_type": "stream",
     "text": [
      "d:\\Job_prediction\\job_prediction\\lib\\site-packages\\sklearn\\utils\\deprecation.py:87: FutureWarning: Function get_feature_names is deprecated; get_feature_names is deprecated in 1.0 and will be removed in 1.2. Please use get_feature_names_out instead.\n",
      "  warnings.warn(msg, category=FutureWarning)\n"
     ]
    }
   ],
   "source": [
    "vocab=vector.get_feature_names()\n",
    "print(vocab)"
   ]
  },
  {
   "cell_type": "code",
   "execution_count": 13,
   "id": "b26c029c",
   "metadata": {},
   "outputs": [],
   "source": [
    "from sklearn.model_selection import train_test_split\n",
    "x_train,x_test,y_train,y_test=train_test_split(train_data_features,y)"
   ]
  },
  {
   "cell_type": "code",
   "execution_count": 15,
   "id": "8e2e284e",
   "metadata": {},
   "outputs": [
    {
     "data": {
      "text/plain": [
       "array(['Database Administrator', 'Database Administrator', 'Data Analyst',\n",
       "       'machine learning engineer', 'Full Stack Developer',\n",
       "       'Cloud Engineer', 'Database Administrator',\n",
       "       'machine learning engineer', 'Cloud Engineer',\n",
       "       'Database Administrator', 'Database Administrator', 'Data Analyst',\n",
       "       'Full Stack Developer', 'Full Stack Developer', 'Cloud Engineer',\n",
       "       'Cloud Engineer', 'Full Stack Developer',\n",
       "       'machine learning engineer', 'Database Administrator'],\n",
       "      dtype=object)"
      ]
     },
     "execution_count": 15,
     "metadata": {},
     "output_type": "execute_result"
    }
   ],
   "source": [
    "y_test"
   ]
  },
  {
   "cell_type": "code",
   "execution_count": 31,
   "id": "f4688b20",
   "metadata": {},
   "outputs": [],
   "source": [
    "from sklearn.preprocessing import LabelEncoder\n",
    "le = LabelEncoder()\n",
    "y_train = le.fit_transform(y_train)\n",
    "y_test = le.transform(y_test)"
   ]
  },
  {
   "cell_type": "code",
   "execution_count": 32,
   "id": "bf38fbbd",
   "metadata": {},
   "outputs": [
    {
     "data": {
      "text/plain": [
       "array([2, 2, 1, 4, 3, 0, 2, 4, 0, 2, 2, 1, 3, 3, 0, 0, 3, 4, 2])"
      ]
     },
     "execution_count": 32,
     "metadata": {},
     "output_type": "execute_result"
    }
   ],
   "source": [
    "y_test"
   ]
  },
  {
   "cell_type": "code",
   "execution_count": 33,
   "id": "27eb1894",
   "metadata": {},
   "outputs": [
    {
     "data": {
      "text/plain": [
       "array(['Cloud Engineer', 'Data Analyst', 'Database Administrator',\n",
       "       'Full Stack Developer', 'machine learning engineer'], dtype=object)"
      ]
     },
     "execution_count": 33,
     "metadata": {},
     "output_type": "execute_result"
    }
   ],
   "source": [
    "le.classes_"
   ]
  },
  {
   "cell_type": "code",
   "execution_count": 34,
   "id": "b0275338",
   "metadata": {},
   "outputs": [
    {
     "data": {
      "text/html": [
       "<style>#sk-container-id-2 {color: black;background-color: white;}#sk-container-id-2 pre{padding: 0;}#sk-container-id-2 div.sk-toggleable {background-color: white;}#sk-container-id-2 label.sk-toggleable__label {cursor: pointer;display: block;width: 100%;margin-bottom: 0;padding: 0.3em;box-sizing: border-box;text-align: center;}#sk-container-id-2 label.sk-toggleable__label-arrow:before {content: \"▸\";float: left;margin-right: 0.25em;color: #696969;}#sk-container-id-2 label.sk-toggleable__label-arrow:hover:before {color: black;}#sk-container-id-2 div.sk-estimator:hover label.sk-toggleable__label-arrow:before {color: black;}#sk-container-id-2 div.sk-toggleable__content {max-height: 0;max-width: 0;overflow: hidden;text-align: left;background-color: #f0f8ff;}#sk-container-id-2 div.sk-toggleable__content pre {margin: 0.2em;color: black;border-radius: 0.25em;background-color: #f0f8ff;}#sk-container-id-2 input.sk-toggleable__control:checked~div.sk-toggleable__content {max-height: 200px;max-width: 100%;overflow: auto;}#sk-container-id-2 input.sk-toggleable__control:checked~label.sk-toggleable__label-arrow:before {content: \"▾\";}#sk-container-id-2 div.sk-estimator input.sk-toggleable__control:checked~label.sk-toggleable__label {background-color: #d4ebff;}#sk-container-id-2 div.sk-label input.sk-toggleable__control:checked~label.sk-toggleable__label {background-color: #d4ebff;}#sk-container-id-2 input.sk-hidden--visually {border: 0;clip: rect(1px 1px 1px 1px);clip: rect(1px, 1px, 1px, 1px);height: 1px;margin: -1px;overflow: hidden;padding: 0;position: absolute;width: 1px;}#sk-container-id-2 div.sk-estimator {font-family: monospace;background-color: #f0f8ff;border: 1px dotted black;border-radius: 0.25em;box-sizing: border-box;margin-bottom: 0.5em;}#sk-container-id-2 div.sk-estimator:hover {background-color: #d4ebff;}#sk-container-id-2 div.sk-parallel-item::after {content: \"\";width: 100%;border-bottom: 1px solid gray;flex-grow: 1;}#sk-container-id-2 div.sk-label:hover label.sk-toggleable__label {background-color: #d4ebff;}#sk-container-id-2 div.sk-serial::before {content: \"\";position: absolute;border-left: 1px solid gray;box-sizing: border-box;top: 0;bottom: 0;left: 50%;z-index: 0;}#sk-container-id-2 div.sk-serial {display: flex;flex-direction: column;align-items: center;background-color: white;padding-right: 0.2em;padding-left: 0.2em;position: relative;}#sk-container-id-2 div.sk-item {position: relative;z-index: 1;}#sk-container-id-2 div.sk-parallel {display: flex;align-items: stretch;justify-content: center;background-color: white;position: relative;}#sk-container-id-2 div.sk-item::before, #sk-container-id-2 div.sk-parallel-item::before {content: \"\";position: absolute;border-left: 1px solid gray;box-sizing: border-box;top: 0;bottom: 0;left: 50%;z-index: -1;}#sk-container-id-2 div.sk-parallel-item {display: flex;flex-direction: column;z-index: 1;position: relative;background-color: white;}#sk-container-id-2 div.sk-parallel-item:first-child::after {align-self: flex-end;width: 50%;}#sk-container-id-2 div.sk-parallel-item:last-child::after {align-self: flex-start;width: 50%;}#sk-container-id-2 div.sk-parallel-item:only-child::after {width: 0;}#sk-container-id-2 div.sk-dashed-wrapped {border: 1px dashed gray;margin: 0 0.4em 0.5em 0.4em;box-sizing: border-box;padding-bottom: 0.4em;background-color: white;}#sk-container-id-2 div.sk-label label {font-family: monospace;font-weight: bold;display: inline-block;line-height: 1.2em;}#sk-container-id-2 div.sk-label-container {text-align: center;}#sk-container-id-2 div.sk-container {/* jupyter's `normalize.less` sets `[hidden] { display: none; }` but bootstrap.min.css set `[hidden] { display: none !important; }` so we also need the `!important` here to be able to override the default hidden behavior on the sphinx rendered scikit-learn.org. See: https://github.com/scikit-learn/scikit-learn/issues/21755 */display: inline-block !important;position: relative;}#sk-container-id-2 div.sk-text-repr-fallback {display: none;}</style><div id=\"sk-container-id-2\" class=\"sk-top-container\"><div class=\"sk-text-repr-fallback\"><pre>RandomForestClassifier()</pre><b>In a Jupyter environment, please rerun this cell to show the HTML representation or trust the notebook. <br />On GitHub, the HTML representation is unable to render, please try loading this page with nbviewer.org.</b></div><div class=\"sk-container\" hidden><div class=\"sk-item\"><div class=\"sk-estimator sk-toggleable\"><input class=\"sk-toggleable__control sk-hidden--visually\" id=\"sk-estimator-id-2\" type=\"checkbox\" checked><label for=\"sk-estimator-id-2\" class=\"sk-toggleable__label sk-toggleable__label-arrow\">RandomForestClassifier</label><div class=\"sk-toggleable__content\"><pre>RandomForestClassifier()</pre></div></div></div></div></div>"
      ],
      "text/plain": [
       "RandomForestClassifier()"
      ]
     },
     "execution_count": 34,
     "metadata": {},
     "output_type": "execute_result"
    }
   ],
   "source": [
    "from sklearn.ensemble import RandomForestClassifier\n",
    "model=RandomForestClassifier()\n",
    "model.fit(x_train,y_train)"
   ]
  },
  {
   "cell_type": "code",
   "execution_count": 35,
   "id": "3e8bbad1",
   "metadata": {},
   "outputs": [],
   "source": [
    "y_pred=model.predict(x_test)"
   ]
  },
  {
   "cell_type": "code",
   "execution_count": 36,
   "id": "54e901aa",
   "metadata": {},
   "outputs": [
    {
     "data": {
      "text/plain": [
       "0.6842105263157895"
      ]
     },
     "execution_count": 36,
     "metadata": {},
     "output_type": "execute_result"
    }
   ],
   "source": [
    "from sklearn.metrics import accuracy_score\n",
    "acc=accuracy_score(y_test,y_pred)\n",
    "acc"
   ]
  },
  {
   "cell_type": "code",
   "execution_count": 37,
   "id": "e6880668",
   "metadata": {},
   "outputs": [
    {
     "name": "stdout",
     "output_type": "stream",
     "text": [
      "0.5263157894736842\n"
     ]
    }
   ],
   "source": [
    "from sklearn.neighbors import KNeighborsClassifier\n",
    "knn = KNeighborsClassifier()\n",
    "knn.fit(x_train, y_train)\n",
    "y_pred = knn.predict(x_test)\n",
    "print(accuracy_score(y_test,y_pred))"
   ]
  },
  {
   "cell_type": "code",
   "execution_count": 38,
   "id": "205e1ca5",
   "metadata": {},
   "outputs": [
    {
     "name": "stdout",
     "output_type": "stream",
     "text": [
      "0.7894736842105263\n"
     ]
    }
   ],
   "source": [
    "from sklearn.svm import SVC\n",
    "svc = SVC()\n",
    "svc.fit(x_train, y_train)\n",
    "y_pred = svc.predict(x_test)\n",
    "print(accuracy_score(y_test,y_pred))"
   ]
  },
  {
   "cell_type": "code",
   "execution_count": 39,
   "id": "8260fc68",
   "metadata": {},
   "outputs": [
    {
     "name": "stdout",
     "output_type": "stream",
     "text": [
      "0.8421052631578947\n"
     ]
    }
   ],
   "source": [
    "from sklearn.tree import DecisionTreeClassifier\n",
    "dtc = DecisionTreeClassifier()\n",
    "dtc.fit(x_train, y_train)\n",
    "y_pred = dtc.predict(x_test)\n",
    "print(accuracy_score(y_test,y_pred))"
   ]
  },
  {
   "cell_type": "code",
   "execution_count": 40,
   "id": "4c7df31e",
   "metadata": {},
   "outputs": [
    {
     "data": {
      "text/plain": [
       "803"
      ]
     },
     "execution_count": 40,
     "metadata": {},
     "output_type": "execute_result"
    }
   ],
   "source": [
    "x_train.shape[1]"
   ]
  },
  {
   "cell_type": "code",
   "execution_count": 44,
   "id": "2bde62f0",
   "metadata": {},
   "outputs": [
    {
     "name": "stdout",
     "output_type": "stream",
     "text": [
      "Model: \"sequential_5\"\n",
      "_________________________________________________________________\n",
      " Layer (type)                Output Shape              Param #   \n",
      "=================================================================\n",
      " dense_10 (Dense)            (None, 10)                8040      \n",
      "                                                                 \n",
      " dense_11 (Dense)            (None, 5)                 55        \n",
      "                                                                 \n",
      "=================================================================\n",
      "Total params: 8,095\n",
      "Trainable params: 8,095\n",
      "Non-trainable params: 0\n",
      "_________________________________________________________________\n"
     ]
    }
   ],
   "source": [
    "from keras.models import Sequential\n",
    "from keras import layers\n",
    "\n",
    "input_dim = x_train.shape[1]  # Number of features\n",
    "\n",
    "model = Sequential()\n",
    "model.add(layers.Dense(10, input_dim=input_dim, activation='relu'))\n",
    "model.add(layers.Dense(5, activation='sigmoid'))\n",
    "model.compile(loss='sparse_categorical_crossentropy', optimizer='adam', metrics=['accuracy'])\n",
    "model.summary()"
   ]
  },
  {
   "cell_type": "code",
   "execution_count": 45,
   "id": "6ddbe966",
   "metadata": {},
   "outputs": [
    {
     "name": "stdout",
     "output_type": "stream",
     "text": [
      "Epoch 1/100\n"
     ]
    },
    {
     "name": "stderr",
     "output_type": "stream",
     "text": [
      "d:\\Job_prediction\\job_prediction\\lib\\site-packages\\tensorflow\\python\\framework\\indexed_slices.py:444: UserWarning: Converting sparse IndexedSlices(IndexedSlices(indices=Tensor(\"gradient_tape/sequential_5/dense_10/embedding_lookup_sparse/Reshape_1:0\", shape=(None,), dtype=int32), values=Tensor(\"gradient_tape/sequential_5/dense_10/embedding_lookup_sparse/Reshape:0\", shape=(None, 10), dtype=float32), dense_shape=Tensor(\"gradient_tape/sequential_5/dense_10/embedding_lookup_sparse/Cast:0\", shape=(2,), dtype=int32))) to a dense Tensor of unknown shape. This may consume a large amount of memory.\n",
      "  warnings.warn(\n"
     ]
    },
    {
     "name": "stdout",
     "output_type": "stream",
     "text": [
      "6/6 [==============================] - 3s 121ms/step - loss: 1.6405 - accuracy: 0.0714 - val_loss: 1.5965 - val_accuracy: 0.2105\n",
      "Epoch 2/100\n",
      "6/6 [==============================] - 0s 14ms/step - loss: 1.5226 - accuracy: 0.2143 - val_loss: 1.5537 - val_accuracy: 0.2632\n",
      "Epoch 3/100\n",
      "6/6 [==============================] - 0s 13ms/step - loss: 1.4499 - accuracy: 0.3929 - val_loss: 1.5155 - val_accuracy: 0.3158\n",
      "Epoch 4/100\n",
      "6/6 [==============================] - 0s 13ms/step - loss: 1.3804 - accuracy: 0.5179 - val_loss: 1.4854 - val_accuracy: 0.3158\n",
      "Epoch 5/100\n",
      "6/6 [==============================] - 0s 17ms/step - loss: 1.3207 - accuracy: 0.5179 - val_loss: 1.4617 - val_accuracy: 0.4211\n",
      "Epoch 6/100\n",
      "6/6 [==============================] - 0s 16ms/step - loss: 1.2572 - accuracy: 0.5893 - val_loss: 1.4399 - val_accuracy: 0.4737\n",
      "Epoch 7/100\n",
      "6/6 [==============================] - 0s 14ms/step - loss: 1.1976 - accuracy: 0.6607 - val_loss: 1.4197 - val_accuracy: 0.5263\n",
      "Epoch 8/100\n",
      "6/6 [==============================] - 0s 16ms/step - loss: 1.1378 - accuracy: 0.6786 - val_loss: 1.3988 - val_accuracy: 0.5789\n",
      "Epoch 9/100\n",
      "6/6 [==============================] - 0s 17ms/step - loss: 1.0770 - accuracy: 0.6964 - val_loss: 1.3782 - val_accuracy: 0.5789\n",
      "Epoch 10/100\n",
      "6/6 [==============================] - 0s 16ms/step - loss: 1.0145 - accuracy: 0.7857 - val_loss: 1.3532 - val_accuracy: 0.5789\n",
      "Epoch 11/100\n",
      "6/6 [==============================] - 0s 18ms/step - loss: 0.9552 - accuracy: 0.8393 - val_loss: 1.3217 - val_accuracy: 0.6316\n",
      "Epoch 12/100\n",
      "6/6 [==============================] - 0s 17ms/step - loss: 0.8899 - accuracy: 0.8929 - val_loss: 1.2889 - val_accuracy: 0.6316\n",
      "Epoch 13/100\n",
      "6/6 [==============================] - 0s 17ms/step - loss: 0.8287 - accuracy: 0.9107 - val_loss: 1.2596 - val_accuracy: 0.6316\n",
      "Epoch 14/100\n",
      "6/6 [==============================] - 0s 17ms/step - loss: 0.7677 - accuracy: 0.9107 - val_loss: 1.2287 - val_accuracy: 0.6316\n",
      "Epoch 15/100\n",
      "6/6 [==============================] - 0s 18ms/step - loss: 0.7092 - accuracy: 0.9286 - val_loss: 1.1913 - val_accuracy: 0.6842\n",
      "Epoch 16/100\n",
      "6/6 [==============================] - 0s 21ms/step - loss: 0.6470 - accuracy: 0.9286 - val_loss: 1.1496 - val_accuracy: 0.6842\n",
      "Epoch 17/100\n",
      "6/6 [==============================] - 0s 12ms/step - loss: 0.5912 - accuracy: 0.9286 - val_loss: 1.1135 - val_accuracy: 0.6842\n",
      "Epoch 18/100\n",
      "6/6 [==============================] - 0s 15ms/step - loss: 0.5425 - accuracy: 0.9643 - val_loss: 1.0793 - val_accuracy: 0.6842\n",
      "Epoch 19/100\n",
      "6/6 [==============================] - 0s 17ms/step - loss: 0.4978 - accuracy: 0.9643 - val_loss: 1.0432 - val_accuracy: 0.6842\n",
      "Epoch 20/100\n",
      "6/6 [==============================] - 0s 19ms/step - loss: 0.4593 - accuracy: 0.9821 - val_loss: 1.0149 - val_accuracy: 0.6842\n",
      "Epoch 21/100\n",
      "6/6 [==============================] - 0s 18ms/step - loss: 0.4239 - accuracy: 1.0000 - val_loss: 0.9902 - val_accuracy: 0.6842\n",
      "Epoch 22/100\n",
      "6/6 [==============================] - 0s 17ms/step - loss: 0.3925 - accuracy: 1.0000 - val_loss: 0.9655 - val_accuracy: 0.7368\n",
      "Epoch 23/100\n",
      "6/6 [==============================] - 0s 16ms/step - loss: 0.3649 - accuracy: 1.0000 - val_loss: 0.9439 - val_accuracy: 0.7368\n",
      "Epoch 24/100\n",
      "6/6 [==============================] - 0s 15ms/step - loss: 0.3391 - accuracy: 1.0000 - val_loss: 0.9252 - val_accuracy: 0.7895\n",
      "Epoch 25/100\n",
      "6/6 [==============================] - 0s 15ms/step - loss: 0.3174 - accuracy: 1.0000 - val_loss: 0.9081 - val_accuracy: 0.7895\n",
      "Epoch 26/100\n",
      "6/6 [==============================] - 0s 19ms/step - loss: 0.2971 - accuracy: 1.0000 - val_loss: 0.8862 - val_accuracy: 0.7895\n",
      "Epoch 27/100\n",
      "6/6 [==============================] - 0s 16ms/step - loss: 0.2790 - accuracy: 1.0000 - val_loss: 0.8672 - val_accuracy: 0.7895\n",
      "Epoch 28/100\n",
      "6/6 [==============================] - 0s 17ms/step - loss: 0.2610 - accuracy: 1.0000 - val_loss: 0.8488 - val_accuracy: 0.7895\n",
      "Epoch 29/100\n",
      "6/6 [==============================] - 0s 19ms/step - loss: 0.2461 - accuracy: 1.0000 - val_loss: 0.8353 - val_accuracy: 0.7895\n",
      "Epoch 30/100\n",
      "6/6 [==============================] - 0s 21ms/step - loss: 0.2319 - accuracy: 1.0000 - val_loss: 0.8148 - val_accuracy: 0.7895\n",
      "Epoch 31/100\n",
      "6/6 [==============================] - 0s 15ms/step - loss: 0.2177 - accuracy: 1.0000 - val_loss: 0.8013 - val_accuracy: 0.7895\n",
      "Epoch 32/100\n",
      "6/6 [==============================] - 0s 17ms/step - loss: 0.2064 - accuracy: 1.0000 - val_loss: 0.7893 - val_accuracy: 0.7895\n",
      "Epoch 33/100\n",
      "6/6 [==============================] - 0s 19ms/step - loss: 0.1955 - accuracy: 1.0000 - val_loss: 0.7778 - val_accuracy: 0.7895\n",
      "Epoch 34/100\n",
      "6/6 [==============================] - 0s 16ms/step - loss: 0.1845 - accuracy: 1.0000 - val_loss: 0.7691 - val_accuracy: 0.7895\n",
      "Epoch 35/100\n",
      "6/6 [==============================] - 0s 18ms/step - loss: 0.1757 - accuracy: 1.0000 - val_loss: 0.7591 - val_accuracy: 0.7895\n",
      "Epoch 36/100\n",
      "6/6 [==============================] - 0s 15ms/step - loss: 0.1669 - accuracy: 1.0000 - val_loss: 0.7479 - val_accuracy: 0.7895\n",
      "Epoch 37/100\n",
      "6/6 [==============================] - 0s 18ms/step - loss: 0.1593 - accuracy: 1.0000 - val_loss: 0.7380 - val_accuracy: 0.7895\n",
      "Epoch 38/100\n",
      "6/6 [==============================] - 0s 18ms/step - loss: 0.1512 - accuracy: 1.0000 - val_loss: 0.7322 - val_accuracy: 0.7895\n",
      "Epoch 39/100\n",
      "6/6 [==============================] - 0s 16ms/step - loss: 0.1446 - accuracy: 1.0000 - val_loss: 0.7250 - val_accuracy: 0.8421\n",
      "Epoch 40/100\n",
      "6/6 [==============================] - 0s 14ms/step - loss: 0.1377 - accuracy: 1.0000 - val_loss: 0.7140 - val_accuracy: 0.8421\n",
      "Epoch 41/100\n",
      "6/6 [==============================] - 0s 15ms/step - loss: 0.1322 - accuracy: 1.0000 - val_loss: 0.7072 - val_accuracy: 0.8421\n",
      "Epoch 42/100\n",
      "6/6 [==============================] - 0s 15ms/step - loss: 0.1265 - accuracy: 1.0000 - val_loss: 0.7031 - val_accuracy: 0.8421\n",
      "Epoch 43/100\n",
      "6/6 [==============================] - 0s 16ms/step - loss: 0.1209 - accuracy: 1.0000 - val_loss: 0.6959 - val_accuracy: 0.8421\n",
      "Epoch 44/100\n",
      "6/6 [==============================] - 0s 16ms/step - loss: 0.1162 - accuracy: 1.0000 - val_loss: 0.6894 - val_accuracy: 0.8421\n",
      "Epoch 45/100\n",
      "6/6 [==============================] - 0s 16ms/step - loss: 0.1115 - accuracy: 1.0000 - val_loss: 0.6829 - val_accuracy: 0.8421\n",
      "Epoch 46/100\n",
      "6/6 [==============================] - 0s 15ms/step - loss: 0.1072 - accuracy: 1.0000 - val_loss: 0.6764 - val_accuracy: 0.8421\n",
      "Epoch 47/100\n",
      "6/6 [==============================] - 0s 16ms/step - loss: 0.1030 - accuracy: 1.0000 - val_loss: 0.6717 - val_accuracy: 0.8421\n",
      "Epoch 48/100\n",
      "6/6 [==============================] - 0s 16ms/step - loss: 0.0992 - accuracy: 1.0000 - val_loss: 0.6653 - val_accuracy: 0.8421\n",
      "Epoch 49/100\n",
      "6/6 [==============================] - 0s 20ms/step - loss: 0.0955 - accuracy: 1.0000 - val_loss: 0.6592 - val_accuracy: 0.8421\n",
      "Epoch 50/100\n",
      "6/6 [==============================] - 0s 16ms/step - loss: 0.0918 - accuracy: 1.0000 - val_loss: 0.6552 - val_accuracy: 0.8421\n",
      "Epoch 51/100\n",
      "6/6 [==============================] - 0s 16ms/step - loss: 0.0885 - accuracy: 1.0000 - val_loss: 0.6503 - val_accuracy: 0.8421\n",
      "Epoch 52/100\n",
      "6/6 [==============================] - 0s 15ms/step - loss: 0.0854 - accuracy: 1.0000 - val_loss: 0.6460 - val_accuracy: 0.8421\n",
      "Epoch 53/100\n",
      "6/6 [==============================] - 0s 15ms/step - loss: 0.0824 - accuracy: 1.0000 - val_loss: 0.6421 - val_accuracy: 0.8421\n",
      "Epoch 54/100\n",
      "6/6 [==============================] - 0s 16ms/step - loss: 0.0795 - accuracy: 1.0000 - val_loss: 0.6362 - val_accuracy: 0.8421\n",
      "Epoch 55/100\n",
      "6/6 [==============================] - 0s 16ms/step - loss: 0.0770 - accuracy: 1.0000 - val_loss: 0.6310 - val_accuracy: 0.8421\n",
      "Epoch 56/100\n",
      "6/6 [==============================] - 0s 15ms/step - loss: 0.0742 - accuracy: 1.0000 - val_loss: 0.6279 - val_accuracy: 0.8421\n",
      "Epoch 57/100\n",
      "6/6 [==============================] - 0s 15ms/step - loss: 0.0718 - accuracy: 1.0000 - val_loss: 0.6257 - val_accuracy: 0.8421\n",
      "Epoch 58/100\n",
      "6/6 [==============================] - 0s 20ms/step - loss: 0.0694 - accuracy: 1.0000 - val_loss: 0.6233 - val_accuracy: 0.8421\n",
      "Epoch 59/100\n",
      "6/6 [==============================] - 0s 13ms/step - loss: 0.0672 - accuracy: 1.0000 - val_loss: 0.6185 - val_accuracy: 0.8947\n",
      "Epoch 60/100\n",
      "6/6 [==============================] - 0s 15ms/step - loss: 0.0654 - accuracy: 1.0000 - val_loss: 0.6160 - val_accuracy: 0.8947\n",
      "Epoch 61/100\n",
      "6/6 [==============================] - 0s 18ms/step - loss: 0.0631 - accuracy: 1.0000 - val_loss: 0.6120 - val_accuracy: 0.8947\n",
      "Epoch 62/100\n",
      "6/6 [==============================] - 0s 15ms/step - loss: 0.0610 - accuracy: 1.0000 - val_loss: 0.6088 - val_accuracy: 0.8947\n",
      "Epoch 63/100\n",
      "6/6 [==============================] - 0s 15ms/step - loss: 0.0593 - accuracy: 1.0000 - val_loss: 0.6071 - val_accuracy: 0.8947\n",
      "Epoch 64/100\n",
      "6/6 [==============================] - 0s 17ms/step - loss: 0.0574 - accuracy: 1.0000 - val_loss: 0.6050 - val_accuracy: 0.8947\n",
      "Epoch 65/100\n",
      "6/6 [==============================] - 0s 18ms/step - loss: 0.0557 - accuracy: 1.0000 - val_loss: 0.6027 - val_accuracy: 0.8947\n",
      "Epoch 66/100\n",
      "6/6 [==============================] - 0s 17ms/step - loss: 0.0541 - accuracy: 1.0000 - val_loss: 0.5997 - val_accuracy: 0.8947\n",
      "Epoch 67/100\n",
      "6/6 [==============================] - 0s 17ms/step - loss: 0.0526 - accuracy: 1.0000 - val_loss: 0.5978 - val_accuracy: 0.8947\n",
      "Epoch 68/100\n",
      "6/6 [==============================] - 0s 19ms/step - loss: 0.0506 - accuracy: 1.0000 - val_loss: 0.5953 - val_accuracy: 0.8947\n",
      "Epoch 69/100\n",
      "6/6 [==============================] - 0s 16ms/step - loss: 0.0490 - accuracy: 1.0000 - val_loss: 0.5933 - val_accuracy: 0.8947\n",
      "Epoch 70/100\n",
      "6/6 [==============================] - 0s 15ms/step - loss: 0.0476 - accuracy: 1.0000 - val_loss: 0.5913 - val_accuracy: 0.8947\n",
      "Epoch 71/100\n",
      "6/6 [==============================] - 0s 18ms/step - loss: 0.0460 - accuracy: 1.0000 - val_loss: 0.5869 - val_accuracy: 0.8947\n",
      "Epoch 72/100\n",
      "6/6 [==============================] - 0s 17ms/step - loss: 0.0446 - accuracy: 1.0000 - val_loss: 0.5855 - val_accuracy: 0.8947\n",
      "Epoch 73/100\n",
      "6/6 [==============================] - 0s 19ms/step - loss: 0.0431 - accuracy: 1.0000 - val_loss: 0.5829 - val_accuracy: 0.8947\n",
      "Epoch 74/100\n",
      "6/6 [==============================] - 0s 14ms/step - loss: 0.0420 - accuracy: 1.0000 - val_loss: 0.5808 - val_accuracy: 0.8947\n",
      "Epoch 75/100\n",
      "6/6 [==============================] - 0s 15ms/step - loss: 0.0407 - accuracy: 1.0000 - val_loss: 0.5794 - val_accuracy: 0.8947\n",
      "Epoch 76/100\n",
      "6/6 [==============================] - 0s 14ms/step - loss: 0.0394 - accuracy: 1.0000 - val_loss: 0.5764 - val_accuracy: 0.8947\n",
      "Epoch 77/100\n",
      "6/6 [==============================] - 0s 18ms/step - loss: 0.0384 - accuracy: 1.0000 - val_loss: 0.5752 - val_accuracy: 0.8947\n",
      "Epoch 78/100\n",
      "6/6 [==============================] - 0s 17ms/step - loss: 0.0373 - accuracy: 1.0000 - val_loss: 0.5719 - val_accuracy: 0.8947\n",
      "Epoch 79/100\n",
      "6/6 [==============================] - 0s 14ms/step - loss: 0.0362 - accuracy: 1.0000 - val_loss: 0.5689 - val_accuracy: 0.8947\n",
      "Epoch 80/100\n",
      "6/6 [==============================] - 0s 13ms/step - loss: 0.0353 - accuracy: 1.0000 - val_loss: 0.5663 - val_accuracy: 0.8947\n",
      "Epoch 81/100\n",
      "6/6 [==============================] - 0s 15ms/step - loss: 0.0343 - accuracy: 1.0000 - val_loss: 0.5639 - val_accuracy: 0.8947\n",
      "Epoch 82/100\n",
      "6/6 [==============================] - 0s 17ms/step - loss: 0.0334 - accuracy: 1.0000 - val_loss: 0.5616 - val_accuracy: 0.8947\n",
      "Epoch 83/100\n",
      "6/6 [==============================] - 0s 15ms/step - loss: 0.0327 - accuracy: 1.0000 - val_loss: 0.5594 - val_accuracy: 0.8947\n",
      "Epoch 84/100\n",
      "6/6 [==============================] - 0s 14ms/step - loss: 0.0316 - accuracy: 1.0000 - val_loss: 0.5564 - val_accuracy: 0.8947\n",
      "Epoch 85/100\n",
      "6/6 [==============================] - 0s 16ms/step - loss: 0.0309 - accuracy: 1.0000 - val_loss: 0.5544 - val_accuracy: 0.8947\n",
      "Epoch 86/100\n",
      "6/6 [==============================] - 0s 15ms/step - loss: 0.0301 - accuracy: 1.0000 - val_loss: 0.5518 - val_accuracy: 0.8947\n",
      "Epoch 87/100\n",
      "6/6 [==============================] - 0s 18ms/step - loss: 0.0294 - accuracy: 1.0000 - val_loss: 0.5510 - val_accuracy: 0.8947\n",
      "Epoch 88/100\n",
      "6/6 [==============================] - 0s 18ms/step - loss: 0.0286 - accuracy: 1.0000 - val_loss: 0.5500 - val_accuracy: 0.8947\n",
      "Epoch 89/100\n",
      "6/6 [==============================] - 0s 17ms/step - loss: 0.0279 - accuracy: 1.0000 - val_loss: 0.5475 - val_accuracy: 0.8947\n",
      "Epoch 90/100\n",
      "6/6 [==============================] - 0s 16ms/step - loss: 0.0271 - accuracy: 1.0000 - val_loss: 0.5451 - val_accuracy: 0.8947\n",
      "Epoch 91/100\n",
      "6/6 [==============================] - 0s 15ms/step - loss: 0.0265 - accuracy: 1.0000 - val_loss: 0.5427 - val_accuracy: 0.8947\n",
      "Epoch 92/100\n",
      "6/6 [==============================] - 0s 15ms/step - loss: 0.0258 - accuracy: 1.0000 - val_loss: 0.5405 - val_accuracy: 0.8947\n",
      "Epoch 93/100\n",
      "6/6 [==============================] - 0s 16ms/step - loss: 0.0253 - accuracy: 1.0000 - val_loss: 0.5404 - val_accuracy: 0.8947\n",
      "Epoch 94/100\n",
      "6/6 [==============================] - 0s 15ms/step - loss: 0.0246 - accuracy: 1.0000 - val_loss: 0.5397 - val_accuracy: 0.8947\n",
      "Epoch 95/100\n",
      "6/6 [==============================] - 0s 17ms/step - loss: 0.0240 - accuracy: 1.0000 - val_loss: 0.5379 - val_accuracy: 0.8947\n",
      "Epoch 96/100\n",
      "6/6 [==============================] - 0s 17ms/step - loss: 0.0235 - accuracy: 1.0000 - val_loss: 0.5359 - val_accuracy: 0.8947\n",
      "Epoch 97/100\n",
      "6/6 [==============================] - 0s 15ms/step - loss: 0.0229 - accuracy: 1.0000 - val_loss: 0.5345 - val_accuracy: 0.8947\n",
      "Epoch 98/100\n",
      "6/6 [==============================] - 0s 14ms/step - loss: 0.0224 - accuracy: 1.0000 - val_loss: 0.5340 - val_accuracy: 0.8947\n",
      "Epoch 99/100\n",
      "6/6 [==============================] - 0s 18ms/step - loss: 0.0219 - accuracy: 1.0000 - val_loss: 0.5325 - val_accuracy: 0.8947\n",
      "Epoch 100/100\n",
      "6/6 [==============================] - 0s 13ms/step - loss: 0.0215 - accuracy: 1.0000 - val_loss: 0.5295 - val_accuracy: 0.8947\n"
     ]
    }
   ],
   "source": [
    "history = model.fit(x_train, y_train,epochs=100,validation_data=(x_test, y_test),batch_size=10)"
   ]
  },
  {
   "cell_type": "code",
   "execution_count": 46,
   "id": "3be852c9",
   "metadata": {},
   "outputs": [],
   "source": [
    "from keras.backend import clear_session\n",
    "clear_session()"
   ]
  },
  {
   "cell_type": "code",
   "execution_count": 47,
   "id": "17e6edf9",
   "metadata": {},
   "outputs": [
    {
     "name": "stdout",
     "output_type": "stream",
     "text": [
      "Training Accuracy: 1.0000\n",
      "Testing Accuracy:  0.8947\n"
     ]
    }
   ],
   "source": [
    "loss, accuracy = model.evaluate(x_train, y_train, verbose=False)\n",
    "print(\"Training Accuracy: {:.4f}\".format(accuracy))\n",
    "loss, accuracy = model.evaluate(x_test, y_test, verbose=False)\n",
    "print(\"Testing Accuracy:  {:.4f}\".format(accuracy))"
   ]
  },
  {
   "cell_type": "code",
   "execution_count": 53,
   "id": "a71649e9",
   "metadata": {},
   "outputs": [
    {
     "data": {
      "image/png": "[encoded data removed]",
      "text/plain": [
       "<Figure size 1200x500 with 2 Axes>"
      ]
     },
     "metadata": {},
     "output_type": "display_data"
    }
   ],
   "source": [
    "import matplotlib.pyplot as plt\n",
    "plt.style.use('ggplot')\n",
    "\n",
    "def plot_history(history):\n",
    "    acc = history.history['accuracy']\n",
    "    val_acc = history.history['val_accuracy']\n",
    "    loss = history.history['loss']\n",
    "    val_loss = history.history['val_loss']\n",
    "    x = range(1, len(acc) + 1)\n",
    "\n",
    "    plt.figure(figsize=(12, 5))\n",
    "    plt.subplot(1, 2, 1)\n",
    "    plt.plot(x, acc, 'b', label='Training accuracy')\n",
    "    plt.plot(x, val_acc, 'r', label='Validation accuracy')\n",
    "    plt.title('Training and validation accuracy')\n",
    "    plt.legend()\n",
    "    plt.subplot(1, 2, 2)\n",
    "    plt.plot(x, loss, 'b', label='Training loss')\n",
    "    plt.plot(x, val_loss, 'r', label='Validation loss')\n",
    "    plt.title('Training and validation loss')\n",
    "    plt.legend()\n",
    "plot_history(history)"
   ]
  },
  {
   "cell_type": "code",
   "execution_count": 61,
   "id": "b5dc45e7",
   "metadata": {},
   "outputs": [],
   "source": [
    "# saving vectorizer and tokenizer\n",
    "import pickle\n",
    "\n",
    "pickle.dump(vector, open(\"vectorizer.pickle\", \"wb\"))\n",
    "pickle.dump(le,open('LabelEncoder.pickle','wb'))\n"
   ]
  },
  {
   "cell_type": "code",
   "execution_count": 63,
   "id": "850dd8f9",
   "metadata": {},
   "outputs": [],
   "source": [
    "# saving model\n",
    "model.save('job_predictor.h5')\n"
   ]
  },
  {
   "cell_type": "code",
   "execution_count": null,
   "id": "e7989fcf",
   "metadata": {},
   "outputs": [],
   "source": [
    "le.inverse_transform"
   ]
  },
  {
   "cell_type": "code",
   "execution_count": 64,
   "id": "f8e6bd87",
   "metadata": {},
   "outputs": [],
   "source": [
    "text = '''Charger Logistics is a world class asset-based carrier. We specialize in delivering assets, on time and on budget. With the diverse fleet of equipment, we can handle a range of freight, including dedicated loads, specialized hauls, temperature-controlled goods and HAZMAT cargo.\n",
    "\n",
    "Charger logistics invests time and support into its employees to provide them with the room to learn and grow their expertise and work their way up. We are entrepreneurial-minded organization that welcomes and support individual idea and strategies. We are currently expanding and looking to add a motivated individual to our team based out of our Brampton office.\n",
    "\n",
    "Responsibilities:\n",
    "\n",
    "Collaborate with business partners to develop innovative solutions to meet objectives utilizing cutting edge techniques and tools.\n",
    "Effectively communicate the analytics approach and how it will meet and address objectives to business partners.\n",
    "Advocate and educate on the value of data-driven decision making; focus on the “how and why” of solutioning.\n",
    "Lead analytic approaches; integrate solutions collaboratively into applications and tools with data engineers, business leads, analysts and developers.\n",
    "Create repeatable, interpretable, dynamic and scalable models that are seamlessly incorporated into analytic data products.\n",
    "Engineer features by using your business acumen to find new ways to combine disparate internal and external data sources.\n",
    "Share your passion for Data Science with the broader enterprise community; identify and develop long-term processes, frameworks, tools, methods and standards.\n",
    "Collaborate, coach, and learn with a growing team of experienced Data Scientists.\n",
    "Stay connected with external sources of ideas through conferences and community engagements\n",
    "Requrements:\n",
    "\n",
    "Bachelors Degree in Data Science, Computer Science, or related field.\n",
    "4+ years of Data Science and Machine Learning experience required.\n",
    "Experience working with AWS tools like Sage maker is a plus.\n",
    "Proficiency in Python or R. Ability to write complex SQL queries.\n",
    "Proficiency with Machine Learning concepts and modeling techniques to solve problems such as clustering, classification, regression, anomaly detection, simulation and optimization problems on large scale data sets.\n",
    "Ability to implement ML best practices for the entire Data Science lifecycle.\n",
    "Experience with microservices and deployment of ML models.\n",
    "Experience on Cloud Data Warehouses (Snowflake Data Cloud, Google BigQuery, DataBricks Lakehouse, Azure Synapse).\n",
    "Artificial Intelligence / Machine Learning (Amazon Sagemaker, Azure ML Studio)\n",
    "Streaming Data Ingestion and Analytics (Amazon Kinesis, Apache Kafka)\n",
    "\n",
    "Ability to apply various analytical models to business use cases (NLP, Supervised, Un-Supervised, Neural Nets, etc.).\n",
    "Exceptional communication and collaboration skills to understand business partner needs and deliver solutions\n",
    "Bias for action, with the ability to deliver outstanding results through task prioritization and time management.\n",
    "'''"
   ]
  },
  {
   "cell_type": "code",
   "execution_count": 7,
   "id": "9386cff6",
   "metadata": {},
   "outputs": [
    {
     "data": {
      "image/png": "[encoded data removed]",
      "text/plain": [
       "<Figure size 1200x800 with 1 Axes>"
      ]
     },
     "metadata": {},
     "output_type": "display_data"
    }
   ],
   "source": [
    "import matplotlib.pyplot as plt\n",
    "\n",
    "m = ['RandomForestClassifier',\n",
    "'KNeighborsClassifier','SVM',\n",
    "'DecisionTreeClassifier',\n",
    "'ANN']\n",
    "acc = [68.4,52.6,78.9,84.2,89.4]\n",
    "\n",
    "# set width of bar\n",
    "barWidth = 0.25\n",
    "fig = plt.subplots(figsize =(12, 8))\n",
    "\n",
    "plt.bar(m, acc, width = barWidth,\n",
    "        edgecolor ='grey',label = 'Models')\n",
    "plt.xlabel('Models', fontweight ='bold', fontsize = 15)\n",
    "plt.ylabel('Accuracy', fontweight ='bold', fontsize = 15)\n",
    "\n",
    "plt.legend()\n",
    "plt.show()"
   ]
  },
  {
   "cell_type": "code",
   "execution_count": null,
   "id": "77a06455",
   "metadata": {},
   "outputs": [],
   "source": []
  }
 ],
 "metadata": {
  "kernelspec": {
   "display_name": "Python 3.9.13 ('job_prediction': venv)",
   "language": "python",
   "name": "python3"
  },
  "language_info": {
   "codemirror_mode": {
    "name": "ipython",
    "version": 3
   },
   "file_extension": ".py",
   "mimetype": "text/x-python",
   "name": "python",
   "nbconvert_exporter": "python",
   "pygments_lexer": "ipython3",
   "version": "3.9.13"
  },
  "vscode": {
   "interpreter": {
    "hash": "b1474090f809006499ed9bc61f3f50d41257db143dbf9800ff271e80de9a5950"
   }
  }
 },
 "nbformat": 4,
 "nbformat_minor": 5
}
